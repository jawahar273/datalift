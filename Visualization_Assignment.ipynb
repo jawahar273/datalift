{
  "nbformat": 4,
  "nbformat_minor": 0,
  "metadata": {
    "colab": {
      "name": "Visualization Assignment.ipynb",
      "version": "0.3.2",
      "provenance": [],
      "toc_visible": true,
      "include_colab_link": true
    },
    "kernelspec": {
      "name": "python3",
      "display_name": "Python 3"
    }
  },
  "cells": [
    {
      "cell_type": "markdown",
      "metadata": {
        "id": "view-in-github",
        "colab_type": "text"
      },
      "source": [
        "<a href=\"https://colab.research.google.com/github/jawahar273/datalift/blob/master/Visualization_Assignment.ipynb\" target=\"_parent\"><img src=\"https://colab.research.google.com/assets/colab-badge.svg\" alt=\"Open In Colab\"/></a>"
      ]
    },
    {
      "metadata": {
        "id": "MN5hmHU8o0kg",
        "colab_type": "text"
      },
      "cell_type": "markdown",
      "source": [
        "# Travel Reviews\n",
        "\n",
        "So many people like to know more about place around them. In this *modern digital era*  know about a place may easy but also mean there \n",
        "specific time period or condition you must avoid those place at all cost. \n",
        "\n",
        "For example: Going(Assume only) to the **Antractica** on the time of winter, do you like to go around the place? No.\n",
        "\n"
      ]
    },
    {
      "metadata": {
        "id": "5XZr_H5YYyEy",
        "colab_type": "code",
        "outputId": "e344ade8-2d1e-4976-ff09-6407e31228bb",
        "colab": {
          "base_uri": "https://localhost:8080/",
          "height": 255
        }
      },
      "cell_type": "code",
      "source": [
        "!pip install bokeh"
      ],
      "execution_count": 0,
      "outputs": [
        {
          "output_type": "stream",
          "text": [
            "Requirement already satisfied: bokeh in /usr/local/lib/python3.6/dist-packages (1.0.4)\n",
            "Requirement already satisfied: six>=1.5.2 in /usr/local/lib/python3.6/dist-packages (from bokeh) (1.11.0)\n",
            "Requirement already satisfied: PyYAML>=3.10 in /usr/local/lib/python3.6/dist-packages (from bokeh) (3.13)\n",
            "Requirement already satisfied: python-dateutil>=2.1 in /usr/local/lib/python3.6/dist-packages (from bokeh) (2.5.3)\n",
            "Requirement already satisfied: Jinja2>=2.7 in /usr/local/lib/python3.6/dist-packages (from bokeh) (2.10)\n",
            "Requirement already satisfied: numpy>=1.7.1 in /usr/local/lib/python3.6/dist-packages (from bokeh) (1.14.6)\n",
            "Requirement already satisfied: pillow>=4.0 in /usr/local/lib/python3.6/dist-packages (from bokeh) (4.1.1)\n",
            "Requirement already satisfied: packaging>=16.8 in /usr/local/lib/python3.6/dist-packages (from bokeh) (19.0)\n",
            "Requirement already satisfied: tornado>=4.3 in /usr/local/lib/python3.6/dist-packages (from bokeh) (4.5.3)\n",
            "Requirement already satisfied: MarkupSafe>=0.23 in /usr/local/lib/python3.6/dist-packages (from Jinja2>=2.7->bokeh) (1.1.1)\n",
            "Requirement already satisfied: olefile in /usr/local/lib/python3.6/dist-packages (from pillow>=4.0->bokeh) (0.46)\n",
            "Requirement already satisfied: pyparsing>=2.0.2 in /usr/local/lib/python3.6/dist-packages (from packaging>=16.8->bokeh) (2.3.1)\n"
          ],
          "name": "stdout"
        }
      ]
    },
    {
      "metadata": {
        "id": "LBQwg_v6rZX5",
        "colab_type": "text"
      },
      "cell_type": "markdown",
      "source": [
        "## DataSet Source\n",
        "\n",
        "Data set are Crawling of TripAdvisor.com. Reviews on destinations in 10 categories mentioned across East Asia are considered. Dataset [link](https://archive.ics.uci.edu/ml/datasets/Travel+Reviews#)"
      ]
    },
    {
      "metadata": {
        "id": "jXt23epjsVAh",
        "colab_type": "code",
        "outputId": "9fa829d3-22f1-4f4b-99fe-5fbb3ddef835",
        "colab": {
          "resources": {
            "http://localhost:8080/nbextensions/google.colab/files.js": {
              "data": "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",
              "ok": true,
              "headers": [
                [
                  "content-type",
                  "application/javascript"
                ]
              ],
              "status": 200,
              "status_text": ""
            }
          },
          "base_uri": "https://localhost:8080/",
          "height": 93
        }
      },
      "cell_type": "code",
      "source": [
        "from google.colab import files\n",
        "\n",
        "uploaded = files.upload()\n",
        "\n",
        "for fn in uploaded.keys():\n",
        "  print('User uploaded file \"{name}\" with length {length} bytes'.format(\n",
        "      name=fn, length=len(uploaded[fn])))"
      ],
      "execution_count": 0,
      "outputs": [
        {
          "output_type": "display_data",
          "data": {
            "text/html": [
              "\n",
              "     <input type=\"file\" id=\"files-a9a2f172-ff99-4676-8c72-75d245c12bf5\" name=\"files[]\" multiple disabled />\n",
              "     <output id=\"result-a9a2f172-ff99-4676-8c72-75d245c12bf5\">\n",
              "      Upload widget is only available when the cell has been executed in the\n",
              "      current browser session. Please rerun this cell to enable.\n",
              "      </output>\n",
              "      <script src=\"/nbextensions/google.colab/files.js\"></script> "
            ],
            "text/plain": [
              "<IPython.core.display.HTML object>"
            ]
          },
          "metadata": {
            "tags": []
          }
        },
        {
          "output_type": "stream",
          "text": [
            "Saving tripadvisor_review.csv to tripadvisor_review (2).csv\n",
            "User uploaded file \"tripadvisor_review.csv\" with length 57307 bytes\n"
          ],
          "name": "stdout"
        }
      ]
    },
    {
      "metadata": {
        "id": "txHIxO2vzdGs",
        "colab_type": "code",
        "outputId": "04fa94c8-ab4e-4c7c-f15a-ab60e2fbb710",
        "colab": {
          "base_uri": "https://localhost:8080/",
          "height": 47
        }
      },
      "cell_type": "code",
      "source": [
        "import numpy as np\n",
        "import pandas as pd\n",
        "from sklearn.decomposition import PCA\n",
        "from sklearn.preprocessing import StandardScaler\n",
        "import matplotlib.pyplot as plt\n",
        "import seaborn as sns; sns.set()\n",
        "from bokeh.plotting import figure, show\n",
        "from bokeh.io import output_notebook\n",
        "\n",
        "output_notebook()\n",
        "\n",
        "%matplotlib inline"
      ],
      "execution_count": 0,
      "outputs": [
        {
          "output_type": "display_data",
          "data": {
            "text/html": [
              "\n",
              "    <div class=\"bk-root\">\n",
              "        <a href=\"https://bokeh.pydata.org\" target=\"_blank\" class=\"bk-logo bk-logo-small bk-logo-notebook\"></a>\n",
              "        <span id=\"1001\">Loading BokehJS ...</span>\n",
              "    </div>"
            ]
          },
          "metadata": {
            "tags": []
          }
        },
        {
          "output_type": "display_data",
          "data": {
            "application/javascript": [
              "\n",
              "(function(root) {\n",
              "  function now() {\n",
              "    return new Date();\n",
              "  }\n",
              "\n",
              "  var force = true;\n",
              "\n",
              "  if (typeof (root._bokeh_onload_callbacks) === \"undefined\" || force === true) {\n",
              "    root._bokeh_onload_callbacks = [];\n",
              "    root._bokeh_is_loading = undefined;\n",
              "  }\n",
              "\n",
              "  var JS_MIME_TYPE = 'application/javascript';\n",
              "  var HTML_MIME_TYPE = 'text/html';\n",
              "  var EXEC_MIME_TYPE = 'application/vnd.bokehjs_exec.v0+json';\n",
              "  var CLASS_NAME = 'output_bokeh rendered_html';\n",
              "\n",
              "  /**\n",
              "   * Render data to the DOM node\n",
              "   */\n",
              "  function render(props, node) {\n",
              "    var script = document.createElement(\"script\");\n",
              "    node.appendChild(script);\n",
              "  }\n",
              "\n",
              "  /**\n",
              "   * Handle when an output is cleared or removed\n",
              "   */\n",
              "  function handleClearOutput(event, handle) {\n",
              "    var cell = handle.cell;\n",
              "\n",
              "    var id = cell.output_area._bokeh_element_id;\n",
              "    var server_id = cell.output_area._bokeh_server_id;\n",
              "    // Clean up Bokeh references\n",
              "    if (id != null && id in Bokeh.index) {\n",
              "      Bokeh.index[id].model.document.clear();\n",
              "      delete Bokeh.index[id];\n",
              "    }\n",
              "\n",
              "    if (server_id !== undefined) {\n",
              "      // Clean up Bokeh references\n",
              "      var cmd = \"from bokeh.io.state import curstate; print(curstate().uuid_to_server['\" + server_id + \"'].get_sessions()[0].document.roots[0]._id)\";\n",
              "      cell.notebook.kernel.execute(cmd, {\n",
              "        iopub: {\n",
              "          output: function(msg) {\n",
              "            var id = msg.content.text.trim();\n",
              "            if (id in Bokeh.index) {\n",
              "              Bokeh.index[id].model.document.clear();\n",
              "              delete Bokeh.index[id];\n",
              "            }\n",
              "          }\n",
              "        }\n",
              "      });\n",
              "      // Destroy server and session\n",
              "      var cmd = \"import bokeh.io.notebook as ion; ion.destroy_server('\" + server_id + \"')\";\n",
              "      cell.notebook.kernel.execute(cmd);\n",
              "    }\n",
              "  }\n",
              "\n",
              "  /**\n",
              "   * Handle when a new output is added\n",
              "   */\n",
              "  function handleAddOutput(event, handle) {\n",
              "    var output_area = handle.output_area;\n",
              "    var output = handle.output;\n",
              "\n",
              "    // limit handleAddOutput to display_data with EXEC_MIME_TYPE content only\n",
              "    if ((output.output_type != \"display_data\") || (!output.data.hasOwnProperty(EXEC_MIME_TYPE))) {\n",
              "      return\n",
              "    }\n",
              "\n",
              "    var toinsert = output_area.element.find(\".\" + CLASS_NAME.split(' ')[0]);\n",
              "\n",
              "    if (output.metadata[EXEC_MIME_TYPE][\"id\"] !== undefined) {\n",
              "      toinsert[toinsert.length - 1].firstChild.textContent = output.data[JS_MIME_TYPE];\n",
              "      // store reference to embed id on output_area\n",
              "      output_area._bokeh_element_id = output.metadata[EXEC_MIME_TYPE][\"id\"];\n",
              "    }\n",
              "    if (output.metadata[EXEC_MIME_TYPE][\"server_id\"] !== undefined) {\n",
              "      var bk_div = document.createElement(\"div\");\n",
              "      bk_div.innerHTML = output.data[HTML_MIME_TYPE];\n",
              "      var script_attrs = bk_div.children[0].attributes;\n",
              "      for (var i = 0; i < script_attrs.length; i++) {\n",
              "        toinsert[toinsert.length - 1].firstChild.setAttribute(script_attrs[i].name, script_attrs[i].value);\n",
              "      }\n",
              "      // store reference to server id on output_area\n",
              "      output_area._bokeh_server_id = output.metadata[EXEC_MIME_TYPE][\"server_id\"];\n",
              "    }\n",
              "  }\n",
              "\n",
              "  function register_renderer(events, OutputArea) {\n",
              "\n",
              "    function append_mime(data, metadata, element) {\n",
              "      // create a DOM node to render to\n",
              "      var toinsert = this.create_output_subarea(\n",
              "        metadata,\n",
              "        CLASS_NAME,\n",
              "        EXEC_MIME_TYPE\n",
              "      );\n",
              "      this.keyboard_manager.register_events(toinsert);\n",
              "      // Render to node\n",
              "      var props = {data: data, metadata: metadata[EXEC_MIME_TYPE]};\n",
              "      render(props, toinsert[toinsert.length - 1]);\n",
              "      element.append(toinsert);\n",
              "      return toinsert\n",
              "    }\n",
              "\n",
              "    /* Handle when an output is cleared or removed */\n",
              "    events.on('clear_output.CodeCell', handleClearOutput);\n",
              "    events.on('delete.Cell', handleClearOutput);\n",
              "\n",
              "    /* Handle when a new output is added */\n",
              "    events.on('output_added.OutputArea', handleAddOutput);\n",
              "\n",
              "    /**\n",
              "     * Register the mime type and append_mime function with output_area\n",
              "     */\n",
              "    OutputArea.prototype.register_mime_type(EXEC_MIME_TYPE, append_mime, {\n",
              "      /* Is output safe? */\n",
              "      safe: true,\n",
              "      /* Index of renderer in `output_area.display_order` */\n",
              "      index: 0\n",
              "    });\n",
              "  }\n",
              "\n",
              "  // register the mime type if in Jupyter Notebook environment and previously unregistered\n",
              "  if (root.Jupyter !== undefined) {\n",
              "    var events = require('base/js/events');\n",
              "    var OutputArea = require('notebook/js/outputarea').OutputArea;\n",
              "\n",
              "    if (OutputArea.prototype.mime_types().indexOf(EXEC_MIME_TYPE) == -1) {\n",
              "      register_renderer(events, OutputArea);\n",
              "    }\n",
              "  }\n",
              "\n",
              "  \n",
              "  if (typeof (root._bokeh_timeout) === \"undefined\" || force === true) {\n",
              "    root._bokeh_timeout = Date.now() + 5000;\n",
              "    root._bokeh_failed_load = false;\n",
              "  }\n",
              "\n",
              "  var NB_LOAD_WARNING = {'data': {'text/html':\n",
              "     \"<div style='background-color: #fdd'>\\n\"+\n",
              "     \"<p>\\n\"+\n",
              "     \"BokehJS does not appear to have successfully loaded. If loading BokehJS from CDN, this \\n\"+\n",
              "     \"may be due to a slow or bad network connection. Possible fixes:\\n\"+\n",
              "     \"</p>\\n\"+\n",
              "     \"<ul>\\n\"+\n",
              "     \"<li>re-rerun `output_notebook()` to attempt to load from CDN again, or</li>\\n\"+\n",
              "     \"<li>use INLINE resources instead, as so:</li>\\n\"+\n",
              "     \"</ul>\\n\"+\n",
              "     \"<code>\\n\"+\n",
              "     \"from bokeh.resources import INLINE\\n\"+\n",
              "     \"output_notebook(resources=INLINE)\\n\"+\n",
              "     \"</code>\\n\"+\n",
              "     \"</div>\"}};\n",
              "\n",
              "  function display_loaded() {\n",
              "    var el = document.getElementById(\"1001\");\n",
              "    if (el != null) {\n",
              "      el.textContent = \"BokehJS is loading...\";\n",
              "    }\n",
              "    if (root.Bokeh !== undefined) {\n",
              "      if (el != null) {\n",
              "        el.textContent = \"BokehJS \" + root.Bokeh.version + \" successfully loaded.\";\n",
              "      }\n",
              "    } else if (Date.now() < root._bokeh_timeout) {\n",
              "      setTimeout(display_loaded, 100)\n",
              "    }\n",
              "  }\n",
              "\n",
              "\n",
              "  function run_callbacks() {\n",
              "    try {\n",
              "      root._bokeh_onload_callbacks.forEach(function(callback) { callback() });\n",
              "    }\n",
              "    finally {\n",
              "      delete root._bokeh_onload_callbacks\n",
              "    }\n",
              "    console.info(\"Bokeh: all callbacks have finished\");\n",
              "  }\n",
              "\n",
              "  function load_libs(js_urls, callback) {\n",
              "    root._bokeh_onload_callbacks.push(callback);\n",
              "    if (root._bokeh_is_loading > 0) {\n",
              "      console.log(\"Bokeh: BokehJS is being loaded, scheduling callback at\", now());\n",
              "      return null;\n",
              "    }\n",
              "    if (js_urls == null || js_urls.length === 0) {\n",
              "      run_callbacks();\n",
              "      return null;\n",
              "    }\n",
              "    console.log(\"Bokeh: BokehJS not loaded, scheduling load and callback at\", now());\n",
              "    root._bokeh_is_loading = js_urls.length;\n",
              "    for (var i = 0; i < js_urls.length; i++) {\n",
              "      var url = js_urls[i];\n",
              "      var s = document.createElement('script');\n",
              "      s.src = url;\n",
              "      s.async = false;\n",
              "      s.onreadystatechange = s.onload = function() {\n",
              "        root._bokeh_is_loading--;\n",
              "        if (root._bokeh_is_loading === 0) {\n",
              "          console.log(\"Bokeh: all BokehJS libraries loaded\");\n",
              "          run_callbacks()\n",
              "        }\n",
              "      };\n",
              "      s.onerror = function() {\n",
              "        console.warn(\"failed to load library \" + url);\n",
              "      };\n",
              "      console.log(\"Bokeh: injecting script tag for BokehJS library: \", url);\n",
              "      document.getElementsByTagName(\"head\")[0].appendChild(s);\n",
              "    }\n",
              "  };var element = document.getElementById(\"1001\");\n",
              "  if (element == null) {\n",
              "    console.log(\"Bokeh: ERROR: autoload.js configured with elementid '1001' but no matching script tag was found. \")\n",
              "    return false;\n",
              "  }\n",
              "\n",
              "  var js_urls = [\"https://cdn.pydata.org/bokeh/release/bokeh-1.0.4.min.js\", \"https://cdn.pydata.org/bokeh/release/bokeh-widgets-1.0.4.min.js\", \"https://cdn.pydata.org/bokeh/release/bokeh-tables-1.0.4.min.js\", \"https://cdn.pydata.org/bokeh/release/bokeh-gl-1.0.4.min.js\"];\n",
              "\n",
              "  var inline_js = [\n",
              "    function(Bokeh) {\n",
              "      Bokeh.set_log_level(\"info\");\n",
              "    },\n",
              "    \n",
              "    function(Bokeh) {\n",
              "      \n",
              "    },\n",
              "    function(Bokeh) {\n",
              "      console.log(\"Bokeh: injecting CSS: https://cdn.pydata.org/bokeh/release/bokeh-1.0.4.min.css\");\n",
              "      Bokeh.embed.inject_css(\"https://cdn.pydata.org/bokeh/release/bokeh-1.0.4.min.css\");\n",
              "      console.log(\"Bokeh: injecting CSS: https://cdn.pydata.org/bokeh/release/bokeh-widgets-1.0.4.min.css\");\n",
              "      Bokeh.embed.inject_css(\"https://cdn.pydata.org/bokeh/release/bokeh-widgets-1.0.4.min.css\");\n",
              "      console.log(\"Bokeh: injecting CSS: https://cdn.pydata.org/bokeh/release/bokeh-tables-1.0.4.min.css\");\n",
              "      Bokeh.embed.inject_css(\"https://cdn.pydata.org/bokeh/release/bokeh-tables-1.0.4.min.css\");\n",
              "    }\n",
              "  ];\n",
              "\n",
              "  function run_inline_js() {\n",
              "    \n",
              "    if ((root.Bokeh !== undefined) || (force === true)) {\n",
              "      for (var i = 0; i < inline_js.length; i++) {\n",
              "        inline_js[i].call(root, root.Bokeh);\n",
              "      }if (force === true) {\n",
              "        display_loaded();\n",
              "      }} else if (Date.now() < root._bokeh_timeout) {\n",
              "      setTimeout(run_inline_js, 100);\n",
              "    } else if (!root._bokeh_failed_load) {\n",
              "      console.log(\"Bokeh: BokehJS failed to load within specified timeout.\");\n",
              "      root._bokeh_failed_load = true;\n",
              "    } else if (force !== true) {\n",
              "      var cell = $(document.getElementById(\"1001\")).parents('.cell').data().cell;\n",
              "      cell.output_area.append_execute_result(NB_LOAD_WARNING)\n",
              "    }\n",
              "\n",
              "  }\n",
              "\n",
              "  if (root._bokeh_is_loading === 0) {\n",
              "    console.log(\"Bokeh: BokehJS loaded, going straight to plotting\");\n",
              "    run_inline_js();\n",
              "  } else {\n",
              "    load_libs(js_urls, function() {\n",
              "      console.log(\"Bokeh: BokehJS plotting callback run at\", now());\n",
              "      run_inline_js();\n",
              "    });\n",
              "  }\n",
              "}(window));"
            ],
            "application/vnd.bokehjs_load.v0+json": "\n(function(root) {\n  function now() {\n    return new Date();\n  }\n\n  var force = true;\n\n  if (typeof (root._bokeh_onload_callbacks) === \"undefined\" || force === true) {\n    root._bokeh_onload_callbacks = [];\n    root._bokeh_is_loading = undefined;\n  }\n\n  \n\n  \n  if (typeof (root._bokeh_timeout) === \"undefined\" || force === true) {\n    root._bokeh_timeout = Date.now() + 5000;\n    root._bokeh_failed_load = false;\n  }\n\n  var NB_LOAD_WARNING = {'data': {'text/html':\n     \"<div style='background-color: #fdd'>\\n\"+\n     \"<p>\\n\"+\n     \"BokehJS does not appear to have successfully loaded. If loading BokehJS from CDN, this \\n\"+\n     \"may be due to a slow or bad network connection. Possible fixes:\\n\"+\n     \"</p>\\n\"+\n     \"<ul>\\n\"+\n     \"<li>re-rerun `output_notebook()` to attempt to load from CDN again, or</li>\\n\"+\n     \"<li>use INLINE resources instead, as so:</li>\\n\"+\n     \"</ul>\\n\"+\n     \"<code>\\n\"+\n     \"from bokeh.resources import INLINE\\n\"+\n     \"output_notebook(resources=INLINE)\\n\"+\n     \"</code>\\n\"+\n     \"</div>\"}};\n\n  function display_loaded() {\n    var el = document.getElementById(\"1001\");\n    if (el != null) {\n      el.textContent = \"BokehJS is loading...\";\n    }\n    if (root.Bokeh !== undefined) {\n      if (el != null) {\n        el.textContent = \"BokehJS \" + root.Bokeh.version + \" successfully loaded.\";\n      }\n    } else if (Date.now() < root._bokeh_timeout) {\n      setTimeout(display_loaded, 100)\n    }\n  }\n\n\n  function run_callbacks() {\n    try {\n      root._bokeh_onload_callbacks.forEach(function(callback) { callback() });\n    }\n    finally {\n      delete root._bokeh_onload_callbacks\n    }\n    console.info(\"Bokeh: all callbacks have finished\");\n  }\n\n  function load_libs(js_urls, callback) {\n    root._bokeh_onload_callbacks.push(callback);\n    if (root._bokeh_is_loading > 0) {\n      console.log(\"Bokeh: BokehJS is being loaded, scheduling callback at\", now());\n      return null;\n    }\n    if (js_urls == null || js_urls.length === 0) {\n      run_callbacks();\n      return null;\n    }\n    console.log(\"Bokeh: BokehJS not loaded, scheduling load and callback at\", now());\n    root._bokeh_is_loading = js_urls.length;\n    for (var i = 0; i < js_urls.length; i++) {\n      var url = js_urls[i];\n      var s = document.createElement('script');\n      s.src = url;\n      s.async = false;\n      s.onreadystatechange = s.onload = function() {\n        root._bokeh_is_loading--;\n        if (root._bokeh_is_loading === 0) {\n          console.log(\"Bokeh: all BokehJS libraries loaded\");\n          run_callbacks()\n        }\n      };\n      s.onerror = function() {\n        console.warn(\"failed to load library \" + url);\n      };\n      console.log(\"Bokeh: injecting script tag for BokehJS library: \", url);\n      document.getElementsByTagName(\"head\")[0].appendChild(s);\n    }\n  };var element = document.getElementById(\"1001\");\n  if (element == null) {\n    console.log(\"Bokeh: ERROR: autoload.js configured with elementid '1001' but no matching script tag was found. \")\n    return false;\n  }\n\n  var js_urls = [\"https://cdn.pydata.org/bokeh/release/bokeh-1.0.4.min.js\", \"https://cdn.pydata.org/bokeh/release/bokeh-widgets-1.0.4.min.js\", \"https://cdn.pydata.org/bokeh/release/bokeh-tables-1.0.4.min.js\", \"https://cdn.pydata.org/bokeh/release/bokeh-gl-1.0.4.min.js\"];\n\n  var inline_js = [\n    function(Bokeh) {\n      Bokeh.set_log_level(\"info\");\n    },\n    \n    function(Bokeh) {\n      \n    },\n    function(Bokeh) {\n      console.log(\"Bokeh: injecting CSS: https://cdn.pydata.org/bokeh/release/bokeh-1.0.4.min.css\");\n      Bokeh.embed.inject_css(\"https://cdn.pydata.org/bokeh/release/bokeh-1.0.4.min.css\");\n      console.log(\"Bokeh: injecting CSS: https://cdn.pydata.org/bokeh/release/bokeh-widgets-1.0.4.min.css\");\n      Bokeh.embed.inject_css(\"https://cdn.pydata.org/bokeh/release/bokeh-widgets-1.0.4.min.css\");\n      console.log(\"Bokeh: injecting CSS: https://cdn.pydata.org/bokeh/release/bokeh-tables-1.0.4.min.css\");\n      Bokeh.embed.inject_css(\"https://cdn.pydata.org/bokeh/release/bokeh-tables-1.0.4.min.css\");\n    }\n  ];\n\n  function run_inline_js() {\n    \n    if ((root.Bokeh !== undefined) || (force === true)) {\n      for (var i = 0; i < inline_js.length; i++) {\n        inline_js[i].call(root, root.Bokeh);\n      }if (force === true) {\n        display_loaded();\n      }} else if (Date.now() < root._bokeh_timeout) {\n      setTimeout(run_inline_js, 100);\n    } else if (!root._bokeh_failed_load) {\n      console.log(\"Bokeh: BokehJS failed to load within specified timeout.\");\n      root._bokeh_failed_load = true;\n    } else if (force !== true) {\n      var cell = $(document.getElementById(\"1001\")).parents('.cell').data().cell;\n      cell.output_area.append_execute_result(NB_LOAD_WARNING)\n    }\n\n  }\n\n  if (root._bokeh_is_loading === 0) {\n    console.log(\"Bokeh: BokehJS loaded, going straight to plotting\");\n    run_inline_js();\n  } else {\n    load_libs(js_urls, function() {\n      console.log(\"Bokeh: BokehJS plotting callback run at\", now());\n      run_inline_js();\n    });\n  }\n}(window));"
          },
          "metadata": {
            "tags": []
          }
        }
      ]
    },
    {
      "metadata": {
        "id": "TLsHc4U2s93R",
        "colab_type": "text"
      },
      "cell_type": "markdown",
      "source": [
        "## Dataset Attribute Description\n",
        "\n",
        "\n",
        "1. Unique user id \n",
        "2. Average user feedback on art galleries \n",
        "3. Average user feedback on dance clubs \n",
        "4. Average user feedback on juice bars \n",
        "5. Average user feedback on restaurants \n",
        "6. Average user feedback on museums \n",
        "7. Average user feedback on resorts \n",
        "8. Average user feedback on parks/picnic spots \n",
        "9. Average user feedback on beaches \n",
        "10. Average user feedback on theaters \n",
        "11.  Average user feedback on religious institutions\n",
        "\n"
      ]
    },
    {
      "metadata": {
        "id": "3qR4GLcSt1og",
        "colab_type": "text"
      },
      "cell_type": "markdown",
      "source": [
        "### Loading into Memory\n"
      ]
    },
    {
      "metadata": {
        "id": "3FyFyCkO2Hlp",
        "colab_type": "code",
        "colab": {}
      },
      "cell_type": "code",
      "source": [
        ""
      ],
      "execution_count": 0,
      "outputs": []
    },
    {
      "metadata": {
        "id": "s7vG5Kmrt0uE",
        "colab_type": "code",
        "colab": {}
      },
      "cell_type": "code",
      "source": [
        "travel = pd.read_csv('tripadvisor_review.csv')\n",
        "travel.columns = [\n",
        "    'user_id',\n",
        "    'art_galleries',\n",
        "    'dance_clubs',\n",
        "    'juice_bars',\n",
        "    'restaurants',\n",
        "    'museums',\n",
        "    'resorts',\n",
        "    'parks',\n",
        "    'beaches',\n",
        "    'theaters',\n",
        "    'religious_institutions'\n",
        "]"
      ],
      "execution_count": 0,
      "outputs": []
    },
    {
      "metadata": {
        "id": "swrffql0uF0Y",
        "colab_type": "text"
      },
      "cell_type": "markdown",
      "source": [
        "getting the basic information such as data type of the attributes. "
      ]
    },
    {
      "metadata": {
        "id": "mGZjRzMvs0qV",
        "colab_type": "code",
        "outputId": "ee62d54f-235b-4617-c705-5cd90a0a8cb0",
        "colab": {
          "base_uri": "https://localhost:8080/",
          "height": 308
        }
      },
      "cell_type": "code",
      "source": [
        "travel.info()"
      ],
      "execution_count": 0,
      "outputs": [
        {
          "output_type": "stream",
          "text": [
            "<class 'pandas.core.frame.DataFrame'>\n",
            "RangeIndex: 980 entries, 0 to 979\n",
            "Data columns (total 11 columns):\n",
            "user_id                   980 non-null object\n",
            "art_galleries             980 non-null float64\n",
            "dance_clubs               980 non-null float64\n",
            "juice_bars                980 non-null float64\n",
            "restaurants               980 non-null float64\n",
            "museums                   980 non-null float64\n",
            "resorts                   980 non-null float64\n",
            "parks                     980 non-null float64\n",
            "beaches                   980 non-null float64\n",
            "theaters                  980 non-null float64\n",
            "religious_institutions    980 non-null float64\n",
            "dtypes: float64(10), object(1)\n",
            "memory usage: 84.3+ KB\n"
          ],
          "name": "stdout"
        }
      ]
    },
    {
      "metadata": {
        "id": "kcSt4dvCuAUQ",
        "colab_type": "code",
        "outputId": "b34cf6c6-e884-4aa7-e339-cda49ccfe7bc",
        "colab": {
          "base_uri": "https://localhost:8080/",
          "height": 308
        }
      },
      "cell_type": "code",
      "source": [
        "travel.describe()"
      ],
      "execution_count": 0,
      "outputs": [
        {
          "output_type": "execute_result",
          "data": {
            "text/html": [
              "<div>\n",
              "<style scoped>\n",
              "    .dataframe tbody tr th:only-of-type {\n",
              "        vertical-align: middle;\n",
              "    }\n",
              "\n",
              "    .dataframe tbody tr th {\n",
              "        vertical-align: top;\n",
              "    }\n",
              "\n",
              "    .dataframe thead th {\n",
              "        text-align: right;\n",
              "    }\n",
              "</style>\n",
              "<table border=\"1\" class=\"dataframe\">\n",
              "  <thead>\n",
              "    <tr style=\"text-align: right;\">\n",
              "      <th></th>\n",
              "      <th>art_galleries</th>\n",
              "      <th>dance_clubs</th>\n",
              "      <th>juice_bars</th>\n",
              "      <th>restaurants</th>\n",
              "      <th>museums</th>\n",
              "      <th>resorts</th>\n",
              "      <th>parks</th>\n",
              "      <th>beaches</th>\n",
              "      <th>theaters</th>\n",
              "      <th>religious_institutions</th>\n",
              "    </tr>\n",
              "  </thead>\n",
              "  <tbody>\n",
              "    <tr>\n",
              "      <th>count</th>\n",
              "      <td>980.000000</td>\n",
              "      <td>980.000000</td>\n",
              "      <td>980.000000</td>\n",
              "      <td>980.000000</td>\n",
              "      <td>980.000000</td>\n",
              "      <td>980.000000</td>\n",
              "      <td>980.000000</td>\n",
              "      <td>980.000000</td>\n",
              "      <td>980.000000</td>\n",
              "      <td>980.000000</td>\n",
              "    </tr>\n",
              "    <tr>\n",
              "      <th>mean</th>\n",
              "      <td>0.893194</td>\n",
              "      <td>1.352612</td>\n",
              "      <td>1.013306</td>\n",
              "      <td>0.532500</td>\n",
              "      <td>0.939735</td>\n",
              "      <td>1.842898</td>\n",
              "      <td>3.180939</td>\n",
              "      <td>2.835061</td>\n",
              "      <td>1.569439</td>\n",
              "      <td>2.799224</td>\n",
              "    </tr>\n",
              "    <tr>\n",
              "      <th>std</th>\n",
              "      <td>0.326912</td>\n",
              "      <td>0.478280</td>\n",
              "      <td>0.788607</td>\n",
              "      <td>0.279731</td>\n",
              "      <td>0.437430</td>\n",
              "      <td>0.539538</td>\n",
              "      <td>0.007824</td>\n",
              "      <td>0.137505</td>\n",
              "      <td>0.364629</td>\n",
              "      <td>0.321380</td>\n",
              "    </tr>\n",
              "    <tr>\n",
              "      <th>min</th>\n",
              "      <td>0.340000</td>\n",
              "      <td>0.000000</td>\n",
              "      <td>0.130000</td>\n",
              "      <td>0.150000</td>\n",
              "      <td>0.060000</td>\n",
              "      <td>0.140000</td>\n",
              "      <td>3.160000</td>\n",
              "      <td>2.420000</td>\n",
              "      <td>0.740000</td>\n",
              "      <td>2.140000</td>\n",
              "    </tr>\n",
              "    <tr>\n",
              "      <th>25%</th>\n",
              "      <td>0.670000</td>\n",
              "      <td>1.080000</td>\n",
              "      <td>0.270000</td>\n",
              "      <td>0.410000</td>\n",
              "      <td>0.640000</td>\n",
              "      <td>1.460000</td>\n",
              "      <td>3.180000</td>\n",
              "      <td>2.740000</td>\n",
              "      <td>1.310000</td>\n",
              "      <td>2.540000</td>\n",
              "    </tr>\n",
              "    <tr>\n",
              "      <th>50%</th>\n",
              "      <td>0.830000</td>\n",
              "      <td>1.280000</td>\n",
              "      <td>0.820000</td>\n",
              "      <td>0.500000</td>\n",
              "      <td>0.900000</td>\n",
              "      <td>1.800000</td>\n",
              "      <td>3.180000</td>\n",
              "      <td>2.820000</td>\n",
              "      <td>1.540000</td>\n",
              "      <td>2.780000</td>\n",
              "    </tr>\n",
              "    <tr>\n",
              "      <th>75%</th>\n",
              "      <td>1.020000</td>\n",
              "      <td>1.560000</td>\n",
              "      <td>1.572500</td>\n",
              "      <td>0.580000</td>\n",
              "      <td>1.200000</td>\n",
              "      <td>2.200000</td>\n",
              "      <td>3.180000</td>\n",
              "      <td>2.910000</td>\n",
              "      <td>1.760000</td>\n",
              "      <td>3.040000</td>\n",
              "    </tr>\n",
              "    <tr>\n",
              "      <th>max</th>\n",
              "      <td>3.220000</td>\n",
              "      <td>3.640000</td>\n",
              "      <td>3.620000</td>\n",
              "      <td>3.440000</td>\n",
              "      <td>3.300000</td>\n",
              "      <td>3.760000</td>\n",
              "      <td>3.210000</td>\n",
              "      <td>3.390000</td>\n",
              "      <td>3.170000</td>\n",
              "      <td>3.660000</td>\n",
              "    </tr>\n",
              "  </tbody>\n",
              "</table>\n",
              "</div>"
            ],
            "text/plain": [
              "       art_galleries  dance_clubs  juice_bars  restaurants     museums  \\\n",
              "count     980.000000   980.000000  980.000000   980.000000  980.000000   \n",
              "mean        0.893194     1.352612    1.013306     0.532500    0.939735   \n",
              "std         0.326912     0.478280    0.788607     0.279731    0.437430   \n",
              "min         0.340000     0.000000    0.130000     0.150000    0.060000   \n",
              "25%         0.670000     1.080000    0.270000     0.410000    0.640000   \n",
              "50%         0.830000     1.280000    0.820000     0.500000    0.900000   \n",
              "75%         1.020000     1.560000    1.572500     0.580000    1.200000   \n",
              "max         3.220000     3.640000    3.620000     3.440000    3.300000   \n",
              "\n",
              "          resorts       parks     beaches    theaters  religious_institutions  \n",
              "count  980.000000  980.000000  980.000000  980.000000              980.000000  \n",
              "mean     1.842898    3.180939    2.835061    1.569439                2.799224  \n",
              "std      0.539538    0.007824    0.137505    0.364629                0.321380  \n",
              "min      0.140000    3.160000    2.420000    0.740000                2.140000  \n",
              "25%      1.460000    3.180000    2.740000    1.310000                2.540000  \n",
              "50%      1.800000    3.180000    2.820000    1.540000                2.780000  \n",
              "75%      2.200000    3.180000    2.910000    1.760000                3.040000  \n",
              "max      3.760000    3.210000    3.390000    3.170000                3.660000  "
            ]
          },
          "metadata": {
            "tags": []
          },
          "execution_count": 5
        }
      ]
    },
    {
      "metadata": {
        "id": "aLoI51TgMZz5",
        "colab_type": "code",
        "colab": {}
      },
      "cell_type": "code",
      "source": [
        ""
      ],
      "execution_count": 0,
      "outputs": []
    },
    {
      "metadata": {
        "id": "sNcJ9aHdukwH",
        "colab_type": "code",
        "outputId": "55037f42-c614-4ab1-c990-ac22a3703923",
        "colab": {
          "base_uri": "https://localhost:8080/",
          "height": 345
        }
      },
      "cell_type": "code",
      "source": [
        "sns.heatmap(travel.corr(), annot=True)\n",
        "plt.show()"
      ],
      "execution_count": 0,
      "outputs": [
        {
          "output_type": "display_data",
          "data": {
            "image/png": "[encoded data removed]",
            "text/plain": [
              "<Figure size 432x288 with 2 Axes>"
            ]
          },
          "metadata": {
            "tags": []
          }
        }
      ]
    },
    {
      "metadata": {
        "id": "5reTumD51_Vj",
        "colab_type": "text"
      },
      "cell_type": "markdown",
      "source": [
        "### Conclusion on HeatMap\n",
        "\n",
        "\n",
        "\n",
        "1.   **Parks** and **Juice Bar** show high correlation ship(may due to the fact the parks and juice bar are located nearby for the tourist in a confort way)\n",
        "2.   **Art galleries **and **museums** show little negative correlation.\n",
        "3. **Resort** and **Beaches** are highly negative correlation(the present of resort is dense than beaches)\n",
        "\n",
        "\n",
        "Even through the each columns look independent, those columns are dependent on each based on some such geo location, season period etc."
      ]
    },
    {
      "metadata": {
        "id": "4W7EdjKwMcpP",
        "colab_type": "code",
        "colab": {}
      },
      "cell_type": "code",
      "source": [
        "x = travel.drop('user_id',axis=1)"
      ],
      "execution_count": 0,
      "outputs": []
    },
    {
      "metadata": {
        "id": "Mg4p0XVo8bgk",
        "colab_type": "text"
      },
      "cell_type": "markdown",
      "source": [
        "# Cluster Users \n",
        "\n",
        "Even through lot of information is required to make recommencation or prediction. By clustering user we can certain step for finding why the user make these rating."
      ]
    },
    {
      "metadata": {
        "id": "OQnlh5qG0QsO",
        "colab_type": "code",
        "colab": {}
      },
      "cell_type": "code",
      "source": [
        "pca = PCA(n_components=2)\n",
        "principalComponents = pca.fit_transform(x)\n",
        "\n",
        "principalDf = pd.DataFrame(data = principalComponents\n",
        "             , columns = ['principal component 1', 'principal component 2'])"
      ],
      "execution_count": 0,
      "outputs": []
    },
    {
      "metadata": {
        "id": "N2eOdCbb_n1V",
        "colab_type": "code",
        "colab": {}
      },
      "cell_type": "code",
      "source": [
        "def show_circle(x, y, _circle={}):\n",
        " \n",
        "  fig1 = figure()\n",
        "  fig1.circle(x, y, **_circle)\n",
        "  output_notebook()\n",
        "\n",
        "  show(fig1)\n",
        "\n",
        "def show_circle_kmean(x, y, _circle={}):\n",
        " \n",
        "  fig1 = figure()\n",
        "  centers = _circle.get('centers')\n",
        "  del _circle['centers']\n",
        "  fig1.circle(x, y, **_circle)\n",
        "  c1 = np.mean(centers[0])\n",
        "  c2 = np.mean(centers[1])\n",
        "  fig1.circle(c1, c2, color= \"#FB8072\", size=30)\n",
        "    \n",
        "  output_notebook()\n",
        "\n",
        "  show(fig1)"
      ],
      "execution_count": 0,
      "outputs": []
    },
    {
      "metadata": {
        "id": "zegscrksgPIo",
        "colab_type": "code",
        "outputId": "26f41eb5-a287-4647-cea8-0e6891a8a94d",
        "colab": {
          "base_uri": "https://localhost:8080/",
          "height": 90
        }
      },
      "cell_type": "code",
      "source": [
        "Kmean.cluster_centers_\n",
        "\n"
      ],
      "execution_count": 0,
      "outputs": [
        {
          "output_type": "execute_result",
          "data": {
            "text/plain": [
              "array([[0.88501672, 1.30989967, 0.49198997, 0.50036789, 0.78625418,\n",
              "        1.62528428, 3.17697324, 2.8543311 , 1.59712375, 2.92548495],\n",
              "       [0.90599476, 1.41947644, 1.82939791, 0.58280105, 1.18      ,\n",
              "        2.18356021, 3.1871466 , 2.80489529, 1.52609948, 2.60157068]])"
            ]
          },
          "metadata": {
            "tags": []
          },
          "execution_count": 58
        }
      ]
    },
    {
      "metadata": {
        "id": "hNde6BZJQBop",
        "colab_type": "code",
        "colab": {}
      },
      "cell_type": "code",
      "source": [
        "x1 = principalDf['principal component 1']\n",
        "x2 = principalDf['principal component 2']"
      ],
      "execution_count": 0,
      "outputs": []
    },
    {
      "metadata": {
        "id": "EnOvbeXWQ-pW",
        "colab_type": "code",
        "outputId": "90a14514-3c05-43f6-c8cc-c4a33b46d085",
        "colab": {
          "base_uri": "https://localhost:8080/",
          "height": 647
        }
      },
      "cell_type": "code",
      "source": [
        "show_circle(x1, x2)"
      ],
      "execution_count": 0,
      "outputs": [
        {
          "output_type": "display_data",
          "data": {
            "text/html": [
              "\n",
              "    <div class=\"bk-root\">\n",
              "        <a href=\"https://bokeh.pydata.org\" target=\"_blank\" class=\"bk-logo bk-logo-small bk-logo-notebook\"></a>\n",
              "        <span id=\"2263\">Loading BokehJS ...</span>\n",
              "    </div>"
            ]
          },
          "metadata": {
            "tags": []
          }
        },
        {
          "output_type": "display_data",
          "data": {
            "application/javascript": [
              "\n",
              "(function(root) {\n",
              "  function now() {\n",
              "    return new Date();\n",
              "  }\n",
              "\n",
              "  var force = true;\n",
              "\n",
              "  if (typeof (root._bokeh_onload_callbacks) === \"undefined\" || force === true) {\n",
              "    root._bokeh_onload_callbacks = [];\n",
              "    root._bokeh_is_loading = undefined;\n",
              "  }\n",
              "\n",
              "  var JS_MIME_TYPE = 'application/javascript';\n",
              "  var HTML_MIME_TYPE = 'text/html';\n",
              "  var EXEC_MIME_TYPE = 'application/vnd.bokehjs_exec.v0+json';\n",
              "  var CLASS_NAME = 'output_bokeh rendered_html';\n",
              "\n",
              "  /**\n",
              "   * Render data to the DOM node\n",
              "   */\n",
              "  function render(props, node) {\n",
              "    var script = document.createElement(\"script\");\n",
              "    node.appendChild(script);\n",
              "  }\n",
              "\n",
              "  /**\n",
              "   * Handle when an output is cleared or removed\n",
              "   */\n",
              "  function handleClearOutput(event, handle) {\n",
              "    var cell = handle.cell;\n",
              "\n",
              "    var id = cell.output_area._bokeh_element_id;\n",
              "    var server_id = cell.output_area._bokeh_server_id;\n",
              "    // Clean up Bokeh references\n",
              "    if (id != null && id in Bokeh.index) {\n",
              "      Bokeh.index[id].model.document.clear();\n",
              "      delete Bokeh.index[id];\n",
              "    }\n",
              "\n",
              "    if (server_id !== undefined) {\n",
              "      // Clean up Bokeh references\n",
              "      var cmd = \"from bokeh.io.state import curstate; print(curstate().uuid_to_server['\" + server_id + \"'].get_sessions()[0].document.roots[0]._id)\";\n",
              "      cell.notebook.kernel.execute(cmd, {\n",
              "        iopub: {\n",
              "          output: function(msg) {\n",
              "            var id = msg.content.text.trim();\n",
              "            if (id in Bokeh.index) {\n",
              "              Bokeh.index[id].model.document.clear();\n",
              "              delete Bokeh.index[id];\n",
              "            }\n",
              "          }\n",
              "        }\n",
              "      });\n",
              "      // Destroy server and session\n",
              "      var cmd = \"import bokeh.io.notebook as ion; ion.destroy_server('\" + server_id + \"')\";\n",
              "      cell.notebook.kernel.execute(cmd);\n",
              "    }\n",
              "  }\n",
              "\n",
              "  /**\n",
              "   * Handle when a new output is added\n",
              "   */\n",
              "  function handleAddOutput(event, handle) {\n",
              "    var output_area = handle.output_area;\n",
              "    var output = handle.output;\n",
              "\n",
              "    // limit handleAddOutput to display_data with EXEC_MIME_TYPE content only\n",
              "    if ((output.output_type != \"display_data\") || (!output.data.hasOwnProperty(EXEC_MIME_TYPE))) {\n",
              "      return\n",
              "    }\n",
              "\n",
              "    var toinsert = output_area.element.find(\".\" + CLASS_NAME.split(' ')[0]);\n",
              "\n",
              "    if (output.metadata[EXEC_MIME_TYPE][\"id\"] !== undefined) {\n",
              "      toinsert[toinsert.length - 1].firstChild.textContent = output.data[JS_MIME_TYPE];\n",
              "      // store reference to embed id on output_area\n",
              "      output_area._bokeh_element_id = output.metadata[EXEC_MIME_TYPE][\"id\"];\n",
              "    }\n",
              "    if (output.metadata[EXEC_MIME_TYPE][\"server_id\"] !== undefined) {\n",
              "      var bk_div = document.createElement(\"div\");\n",
              "      bk_div.innerHTML = output.data[HTML_MIME_TYPE];\n",
              "      var script_attrs = bk_div.children[0].attributes;\n",
              "      for (var i = 0; i < script_attrs.length; i++) {\n",
              "        toinsert[toinsert.length - 1].firstChild.setAttribute(script_attrs[i].name, script_attrs[i].value);\n",
              "      }\n",
              "      // store reference to server id on output_area\n",
              "      output_area._bokeh_server_id = output.metadata[EXEC_MIME_TYPE][\"server_id\"];\n",
              "    }\n",
              "  }\n",
              "\n",
              "  function register_renderer(events, OutputArea) {\n",
              "\n",
              "    function append_mime(data, metadata, element) {\n",
              "      // create a DOM node to render to\n",
              "      var toinsert = this.create_output_subarea(\n",
              "        metadata,\n",
              "        CLASS_NAME,\n",
              "        EXEC_MIME_TYPE\n",
              "      );\n",
              "      this.keyboard_manager.register_events(toinsert);\n",
              "      // Render to node\n",
              "      var props = {data: data, metadata: metadata[EXEC_MIME_TYPE]};\n",
              "      render(props, toinsert[toinsert.length - 1]);\n",
              "      element.append(toinsert);\n",
              "      return toinsert\n",
              "    }\n",
              "\n",
              "    /* Handle when an output is cleared or removed */\n",
              "    events.on('clear_output.CodeCell', handleClearOutput);\n",
              "    events.on('delete.Cell', handleClearOutput);\n",
              "\n",
              "    /* Handle when a new output is added */\n",
              "    events.on('output_added.OutputArea', handleAddOutput);\n",
              "\n",
              "    /**\n",
              "     * Register the mime type and append_mime function with output_area\n",
              "     */\n",
              "    OutputArea.prototype.register_mime_type(EXEC_MIME_TYPE, append_mime, {\n",
              "      /* Is output safe? */\n",
              "      safe: true,\n",
              "      /* Index of renderer in `output_area.display_order` */\n",
              "      index: 0\n",
              "    });\n",
              "  }\n",
              "\n",
              "  // register the mime type if in Jupyter Notebook environment and previously unregistered\n",
              "  if (root.Jupyter !== undefined) {\n",
              "    var events = require('base/js/events');\n",
              "    var OutputArea = require('notebook/js/outputarea').OutputArea;\n",
              "\n",
              "    if (OutputArea.prototype.mime_types().indexOf(EXEC_MIME_TYPE) == -1) {\n",
              "      register_renderer(events, OutputArea);\n",
              "    }\n",
              "  }\n",
              "\n",
              "  \n",
              "  if (typeof (root._bokeh_timeout) === \"undefined\" || force === true) {\n",
              "    root._bokeh_timeout = Date.now() + 5000;\n",
              "    root._bokeh_failed_load = false;\n",
              "  }\n",
              "\n",
              "  var NB_LOAD_WARNING = {'data': {'text/html':\n",
              "     \"<div style='background-color: #fdd'>\\n\"+\n",
              "     \"<p>\\n\"+\n",
              "     \"BokehJS does not appear to have successfully loaded. If loading BokehJS from CDN, this \\n\"+\n",
              "     \"may be due to a slow or bad network connection. Possible fixes:\\n\"+\n",
              "     \"</p>\\n\"+\n",
              "     \"<ul>\\n\"+\n",
              "     \"<li>re-rerun `output_notebook()` to attempt to load from CDN again, or</li>\\n\"+\n",
              "     \"<li>use INLINE resources instead, as so:</li>\\n\"+\n",
              "     \"</ul>\\n\"+\n",
              "     \"<code>\\n\"+\n",
              "     \"from bokeh.resources import INLINE\\n\"+\n",
              "     \"output_notebook(resources=INLINE)\\n\"+\n",
              "     \"</code>\\n\"+\n",
              "     \"</div>\"}};\n",
              "\n",
              "  function display_loaded() {\n",
              "    var el = document.getElementById(\"2263\");\n",
              "    if (el != null) {\n",
              "      el.textContent = \"BokehJS is loading...\";\n",
              "    }\n",
              "    if (root.Bokeh !== undefined) {\n",
              "      if (el != null) {\n",
              "        el.textContent = \"BokehJS \" + root.Bokeh.version + \" successfully loaded.\";\n",
              "      }\n",
              "    } else if (Date.now() < root._bokeh_timeout) {\n",
              "      setTimeout(display_loaded, 100)\n",
              "    }\n",
              "  }\n",
              "\n",
              "\n",
              "  function run_callbacks() {\n",
              "    try {\n",
              "      root._bokeh_onload_callbacks.forEach(function(callback) { callback() });\n",
              "    }\n",
              "    finally {\n",
              "      delete root._bokeh_onload_callbacks\n",
              "    }\n",
              "    console.info(\"Bokeh: all callbacks have finished\");\n",
              "  }\n",
              "\n",
              "  function load_libs(js_urls, callback) {\n",
              "    root._bokeh_onload_callbacks.push(callback);\n",
              "    if (root._bokeh_is_loading > 0) {\n",
              "      console.log(\"Bokeh: BokehJS is being loaded, scheduling callback at\", now());\n",
              "      return null;\n",
              "    }\n",
              "    if (js_urls == null || js_urls.length === 0) {\n",
              "      run_callbacks();\n",
              "      return null;\n",
              "    }\n",
              "    console.log(\"Bokeh: BokehJS not loaded, scheduling load and callback at\", now());\n",
              "    root._bokeh_is_loading = js_urls.length;\n",
              "    for (var i = 0; i < js_urls.length; i++) {\n",
              "      var url = js_urls[i];\n",
              "      var s = document.createElement('script');\n",
              "      s.src = url;\n",
              "      s.async = false;\n",
              "      s.onreadystatechange = s.onload = function() {\n",
              "        root._bokeh_is_loading--;\n",
              "        if (root._bokeh_is_loading === 0) {\n",
              "          console.log(\"Bokeh: all BokehJS libraries loaded\");\n",
              "          run_callbacks()\n",
              "        }\n",
              "      };\n",
              "      s.onerror = function() {\n",
              "        console.warn(\"failed to load library \" + url);\n",
              "      };\n",
              "      console.log(\"Bokeh: injecting script tag for BokehJS library: \", url);\n",
              "      document.getElementsByTagName(\"head\")[0].appendChild(s);\n",
              "    }\n",
              "  };var element = document.getElementById(\"2263\");\n",
              "  if (element == null) {\n",
              "    console.log(\"Bokeh: ERROR: autoload.js configured with elementid '2263' but no matching script tag was found. \")\n",
              "    return false;\n",
              "  }\n",
              "\n",
              "  var js_urls = [\"https://cdn.pydata.org/bokeh/release/bokeh-1.0.4.min.js\", \"https://cdn.pydata.org/bokeh/release/bokeh-widgets-1.0.4.min.js\", \"https://cdn.pydata.org/bokeh/release/bokeh-tables-1.0.4.min.js\", \"https://cdn.pydata.org/bokeh/release/bokeh-gl-1.0.4.min.js\"];\n",
              "\n",
              "  var inline_js = [\n",
              "    function(Bokeh) {\n",
              "      Bokeh.set_log_level(\"info\");\n",
              "    },\n",
              "    \n",
              "    function(Bokeh) {\n",
              "      \n",
              "    },\n",
              "    function(Bokeh) {\n",
              "      console.log(\"Bokeh: injecting CSS: https://cdn.pydata.org/bokeh/release/bokeh-1.0.4.min.css\");\n",
              "      Bokeh.embed.inject_css(\"https://cdn.pydata.org/bokeh/release/bokeh-1.0.4.min.css\");\n",
              "      console.log(\"Bokeh: injecting CSS: https://cdn.pydata.org/bokeh/release/bokeh-widgets-1.0.4.min.css\");\n",
              "      Bokeh.embed.inject_css(\"https://cdn.pydata.org/bokeh/release/bokeh-widgets-1.0.4.min.css\");\n",
              "      console.log(\"Bokeh: injecting CSS: https://cdn.pydata.org/bokeh/release/bokeh-tables-1.0.4.min.css\");\n",
              "      Bokeh.embed.inject_css(\"https://cdn.pydata.org/bokeh/release/bokeh-tables-1.0.4.min.css\");\n",
              "    }\n",
              "  ];\n",
              "\n",
              "  function run_inline_js() {\n",
              "    \n",
              "    if ((root.Bokeh !== undefined) || (force === true)) {\n",
              "      for (var i = 0; i < inline_js.length; i++) {\n",
              "        inline_js[i].call(root, root.Bokeh);\n",
              "      }if (force === true) {\n",
              "        display_loaded();\n",
              "      }} else if (Date.now() < root._bokeh_timeout) {\n",
              "      setTimeout(run_inline_js, 100);\n",
              "    } else if (!root._bokeh_failed_load) {\n",
              "      console.log(\"Bokeh: BokehJS failed to load within specified timeout.\");\n",
              "      root._bokeh_failed_load = true;\n",
              "    } else if (force !== true) {\n",
              "      var cell = $(document.getElementById(\"2263\")).parents('.cell').data().cell;\n",
              "      cell.output_area.append_execute_result(NB_LOAD_WARNING)\n",
              "    }\n",
              "\n",
              "  }\n",
              "\n",
              "  if (root._bokeh_is_loading === 0) {\n",
              "    console.log(\"Bokeh: BokehJS loaded, going straight to plotting\");\n",
              "    run_inline_js();\n",
              "  } else {\n",
              "    load_libs(js_urls, function() {\n",
              "      console.log(\"Bokeh: BokehJS plotting callback run at\", now());\n",
              "      run_inline_js();\n",
              "    });\n",
              "  }\n",
              "}(window));"
            ],
            "application/vnd.bokehjs_load.v0+json": "\n(function(root) {\n  function now() {\n    return new Date();\n  }\n\n  var force = true;\n\n  if (typeof (root._bokeh_onload_callbacks) === \"undefined\" || force === true) {\n    root._bokeh_onload_callbacks = [];\n    root._bokeh_is_loading = undefined;\n  }\n\n  \n\n  \n  if (typeof (root._bokeh_timeout) === \"undefined\" || force === true) {\n    root._bokeh_timeout = Date.now() + 5000;\n    root._bokeh_failed_load = false;\n  }\n\n  var NB_LOAD_WARNING = {'data': {'text/html':\n     \"<div style='background-color: #fdd'>\\n\"+\n     \"<p>\\n\"+\n     \"BokehJS does not appear to have successfully loaded. If loading BokehJS from CDN, this \\n\"+\n     \"may be due to a slow or bad network connection. Possible fixes:\\n\"+\n     \"</p>\\n\"+\n     \"<ul>\\n\"+\n     \"<li>re-rerun `output_notebook()` to attempt to load from CDN again, or</li>\\n\"+\n     \"<li>use INLINE resources instead, as so:</li>\\n\"+\n     \"</ul>\\n\"+\n     \"<code>\\n\"+\n     \"from bokeh.resources import INLINE\\n\"+\n     \"output_notebook(resources=INLINE)\\n\"+\n     \"</code>\\n\"+\n     \"</div>\"}};\n\n  function display_loaded() {\n    var el = document.getElementById(\"2263\");\n    if (el != null) {\n      el.textContent = \"BokehJS is loading...\";\n    }\n    if (root.Bokeh !== undefined) {\n      if (el != null) {\n        el.textContent = \"BokehJS \" + root.Bokeh.version + \" successfully loaded.\";\n      }\n    } else if (Date.now() < root._bokeh_timeout) {\n      setTimeout(display_loaded, 100)\n    }\n  }\n\n\n  function run_callbacks() {\n    try {\n      root._bokeh_onload_callbacks.forEach(function(callback) { callback() });\n    }\n    finally {\n      delete root._bokeh_onload_callbacks\n    }\n    console.info(\"Bokeh: all callbacks have finished\");\n  }\n\n  function load_libs(js_urls, callback) {\n    root._bokeh_onload_callbacks.push(callback);\n    if (root._bokeh_is_loading > 0) {\n      console.log(\"Bokeh: BokehJS is being loaded, scheduling callback at\", now());\n      return null;\n    }\n    if (js_urls == null || js_urls.length === 0) {\n      run_callbacks();\n      return null;\n    }\n    console.log(\"Bokeh: BokehJS not loaded, scheduling load and callback at\", now());\n    root._bokeh_is_loading = js_urls.length;\n    for (var i = 0; i < js_urls.length; i++) {\n      var url = js_urls[i];\n      var s = document.createElement('script');\n      s.src = url;\n      s.async = false;\n      s.onreadystatechange = s.onload = function() {\n        root._bokeh_is_loading--;\n        if (root._bokeh_is_loading === 0) {\n          console.log(\"Bokeh: all BokehJS libraries loaded\");\n          run_callbacks()\n        }\n      };\n      s.onerror = function() {\n        console.warn(\"failed to load library \" + url);\n      };\n      console.log(\"Bokeh: injecting script tag for BokehJS library: \", url);\n      document.getElementsByTagName(\"head\")[0].appendChild(s);\n    }\n  };var element = document.getElementById(\"2263\");\n  if (element == null) {\n    console.log(\"Bokeh: ERROR: autoload.js configured with elementid '2263' but no matching script tag was found. \")\n    return false;\n  }\n\n  var js_urls = [\"https://cdn.pydata.org/bokeh/release/bokeh-1.0.4.min.js\", \"https://cdn.pydata.org/bokeh/release/bokeh-widgets-1.0.4.min.js\", \"https://cdn.pydata.org/bokeh/release/bokeh-tables-1.0.4.min.js\", \"https://cdn.pydata.org/bokeh/release/bokeh-gl-1.0.4.min.js\"];\n\n  var inline_js = [\n    function(Bokeh) {\n      Bokeh.set_log_level(\"info\");\n    },\n    \n    function(Bokeh) {\n      \n    },\n    function(Bokeh) {\n      console.log(\"Bokeh: injecting CSS: https://cdn.pydata.org/bokeh/release/bokeh-1.0.4.min.css\");\n      Bokeh.embed.inject_css(\"https://cdn.pydata.org/bokeh/release/bokeh-1.0.4.min.css\");\n      console.log(\"Bokeh: injecting CSS: https://cdn.pydata.org/bokeh/release/bokeh-widgets-1.0.4.min.css\");\n      Bokeh.embed.inject_css(\"https://cdn.pydata.org/bokeh/release/bokeh-widgets-1.0.4.min.css\");\n      console.log(\"Bokeh: injecting CSS: https://cdn.pydata.org/bokeh/release/bokeh-tables-1.0.4.min.css\");\n      Bokeh.embed.inject_css(\"https://cdn.pydata.org/bokeh/release/bokeh-tables-1.0.4.min.css\");\n    }\n  ];\n\n  function run_inline_js() {\n    \n    if ((root.Bokeh !== undefined) || (force === true)) {\n      for (var i = 0; i < inline_js.length; i++) {\n        inline_js[i].call(root, root.Bokeh);\n      }if (force === true) {\n        display_loaded();\n      }} else if (Date.now() < root._bokeh_timeout) {\n      setTimeout(run_inline_js, 100);\n    } else if (!root._bokeh_failed_load) {\n      console.log(\"Bokeh: BokehJS failed to load within specified timeout.\");\n      root._bokeh_failed_load = true;\n    } else if (force !== true) {\n      var cell = $(document.getElementById(\"2263\")).parents('.cell').data().cell;\n      cell.output_area.append_execute_result(NB_LOAD_WARNING)\n    }\n\n  }\n\n  if (root._bokeh_is_loading === 0) {\n    console.log(\"Bokeh: BokehJS loaded, going straight to plotting\");\n    run_inline_js();\n  } else {\n    load_libs(js_urls, function() {\n      console.log(\"Bokeh: BokehJS plotting callback run at\", now());\n      run_inline_js();\n    });\n  }\n}(window));"
          },
          "metadata": {
            "tags": []
          }
        },
        {
          "output_type": "display_data",
          "data": {
            "text/html": [
              "\n",
              "\n",
              "\n",
              "\n",
              "\n",
              "\n",
              "  <div class=\"bk-root\" id=\"f7b73d91-1c47-4b40-b5fd-6dfb5886bd0e\" data-root-id=\"2224\"></div>\n"
            ]
          },
          "metadata": {
            "tags": []
          }
        },
        {
          "output_type": "display_data",
          "data": {
            "application/javascript": [
              "(function(root) {\n",
              "  function embed_document(root) {\n",
              "    \n",
              "  var docs_json = {\"17f80108-4fa7-4ccd-b1dd-6b84e36093a1\":{\"roots\":{\"references\":[{\"attributes\":{\"below\":[{\"id\":\"2233\",\"type\":\"LinearAxis\"}],\"left\":[{\"id\":\"2238\",\"type\":\"LinearAxis\"}],\"renderers\":[{\"id\":\"2233\",\"type\":\"LinearAxis\"},{\"id\":\"2237\",\"type\":\"Grid\"},{\"id\":\"2238\",\"type\":\"LinearAxis\"},{\"id\":\"2242\",\"type\":\"Grid\"},{\"id\":\"2251\",\"type\":\"BoxAnnotation\"},{\"id\":\"2261\",\"type\":\"GlyphRenderer\"}],\"title\":{\"id\":\"2336\",\"type\":\"Title\"},\"toolbar\":{\"id\":\"2249\",\"type\":\"Toolbar\"},\"x_range\":{\"id\":\"2225\",\"type\":\"DataRange1d\"},\"x_scale\":{\"id\":\"2229\",\"type\":\"LinearScale\"},\"y_range\":{\"id\":\"2227\",\"type\":\"DataRange1d\"},\"y_scale\":{\"id\":\"2231\",\"type\":\"LinearScale\"}},\"id\":\"2224\",\"subtype\":\"Figure\",\"type\":\"Plot\"},{\"attributes\":{},\"id\":\"2247\",\"type\":\"ResetTool\"},{\"attributes\":{\"fill_alpha\":{\"value\":0.1},\"fill_color\":{\"value\":\"#1f77b4\"},\"line_alpha\":{\"value\":0.1},\"line_color\":{\"value\":\"#1f77b4\"},\"x\":{\"field\":\"x\"},\"y\":{\"field\":\"y\"}},\"id\":\"2260\",\"type\":\"Circle\"},{\"attributes\":{},\"id\":\"2248\",\"type\":\"HelpTool\"},{\"attributes\":{\"callback\":null},\"id\":\"2225\",\"type\":\"DataRange1d\"},{\"attributes\":{\"callback\":null},\"id\":\"2227\",\"type\":\"DataRange1d\"},{\"attributes\":{\"active_drag\":\"auto\",\"active_inspect\":\"auto\",\"active_multi\":null,\"active_scroll\":\"auto\",\"active_tap\":\"auto\",\"tools\":[{\"id\":\"2243\",\"type\":\"PanTool\"},{\"id\":\"2244\",\"type\":\"WheelZoomTool\"},{\"id\":\"2245\",\"type\":\"BoxZoomTool\"},{\"id\":\"2246\",\"type\":\"SaveTool\"},{\"id\":\"2247\",\"type\":\"ResetTool\"},{\"id\":\"2248\",\"type\":\"HelpTool\"}]},\"id\":\"2249\",\"type\":\"Toolbar\"},{\"attributes\":{\"bottom_units\":\"screen\",\"fill_alpha\":{\"value\":0.5},\"fill_color\":{\"value\":\"lightgrey\"},\"left_units\":\"screen\",\"level\":\"overlay\",\"line_alpha\":{\"value\":1.0},\"line_color\":{\"value\":\"black\"},\"line_dash\":[4,4],\"line_width\":{\"value\":2},\"plot\":null,\"render_mode\":\"css\",\"right_units\":\"screen\",\"top_units\":\"screen\"},\"id\":\"2251\",\"type\":\"BoxAnnotation\"},{\"attributes\":{},\"id\":\"2229\",\"type\":\"LinearScale\"},{\"attributes\":{\"source\":{\"id\":\"2258\",\"type\":\"ColumnDataSource\"}},\"id\":\"2262\",\"type\":\"CDSView\"},{\"attributes\":{},\"id\":\"2231\",\"type\":\"LinearScale\"},{\"attributes\":{\"formatter\":{\"id\":\"2339\",\"type\":\"BasicTickFormatter\"},\"plot\":{\"id\":\"2224\",\"subtype\":\"Figure\",\"type\":\"Plot\"},\"ticker\":{\"id\":\"2234\",\"type\":\"BasicTicker\"}},\"id\":\"2233\",\"type\":\"LinearAxis\"},{\"attributes\":{},\"id\":\"2234\",\"type\":\"BasicTicker\"},{\"attributes\":{\"plot\":null,\"text\":\"\"},\"id\":\"2336\",\"type\":\"Title\"},{\"attributes\":{},\"id\":\"2339\",\"type\":\"BasicTickFormatter\"},{\"attributes\":{\"plot\":{\"id\":\"2224\",\"subtype\":\"Figure\",\"type\":\"Plot\"},\"ticker\":{\"id\":\"2234\",\"type\":\"BasicTicker\"}},\"id\":\"2237\",\"type\":\"Grid\"},{\"attributes\":{},\"id\":\"2342\",\"type\":\"Selection\"},{\"attributes\":{\"formatter\":{\"id\":\"2341\",\"type\":\"BasicTickFormatter\"},\"plot\":{\"id\":\"2224\",\"subtype\":\"Figure\",\"type\":\"Plot\"},\"ticker\":{\"id\":\"2239\",\"type\":\"BasicTicker\"}},\"id\":\"2238\",\"type\":\"LinearAxis\"},{\"attributes\":{},\"id\":\"2341\",\"type\":\"BasicTickFormatter\"},{\"attributes\":{},\"id\":\"2239\",\"type\":\"BasicTicker\"},{\"attributes\":{},\"id\":\"2343\",\"type\":\"UnionRenderers\"},{\"attributes\":{\"dimension\":1,\"plot\":{\"id\":\"2224\",\"subtype\":\"Figure\",\"type\":\"Plot\"},\"ticker\":{\"id\":\"2239\",\"type\":\"BasicTicker\"}},\"id\":\"2242\",\"type\":\"Grid\"},{\"attributes\":{\"fill_color\":{\"value\":\"#1f77b4\"},\"line_color\":{\"value\":\"#1f77b4\"},\"x\":{\"field\":\"x\"},\"y\":{\"field\":\"y\"}},\"id\":\"2259\",\"type\":\"Circle\"},{\"attributes\":{\"data_source\":{\"id\":\"2258\",\"type\":\"ColumnDataSource\"},\"glyph\":{\"id\":\"2259\",\"type\":\"Circle\"},\"hover_glyph\":null,\"muted_glyph\":null,\"nonselection_glyph\":{\"id\":\"2260\",\"type\":\"Circle\"},\"selection_glyph\":null,\"view\":{\"id\":\"2262\",\"type\":\"CDSView\"}},\"id\":\"2261\",\"type\":\"GlyphRenderer\"},{\"attributes\":{\"callback\":null,\"data\":{\"x\":{\"__ndarray__\":\"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\",\"dtype\":\"float64\",\"shape\":[980]},\"y\":{\"__ndarray__\":\"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\",\"dtype\":\"float64\",\"shape\":[980]}},\"selected\":{\"id\":\"2342\",\"type\":\"Selection\"},\"selection_policy\":{\"id\":\"2343\",\"type\":\"UnionRenderers\"}},\"id\":\"2258\",\"type\":\"ColumnDataSource\"},{\"attributes\":{},\"id\":\"2243\",\"type\":\"PanTool\"},{\"attributes\":{},\"id\":\"2244\",\"type\":\"WheelZoomTool\"},{\"attributes\":{\"overlay\":{\"id\":\"2251\",\"type\":\"BoxAnnotation\"}},\"id\":\"2245\",\"type\":\"BoxZoomTool\"},{\"attributes\":{},\"id\":\"2246\",\"type\":\"SaveTool\"}],\"root_ids\":[\"2224\"]},\"title\":\"Bokeh Application\",\"version\":\"1.0.4\"}};\n",
              "  var render_items = [{\"docid\":\"17f80108-4fa7-4ccd-b1dd-6b84e36093a1\",\"roots\":{\"2224\":\"f7b73d91-1c47-4b40-b5fd-6dfb5886bd0e\"}}];\n",
              "  root.Bokeh.embed.embed_items_notebook(docs_json, render_items);\n",
              "\n",
              "  }\n",
              "  if (root.Bokeh !== undefined) {\n",
              "    embed_document(root);\n",
              "  } else {\n",
              "    var attempts = 0;\n",
              "    var timer = setInterval(function(root) {\n",
              "      if (root.Bokeh !== undefined) {\n",
              "        embed_document(root);\n",
              "        clearInterval(timer);\n",
              "      }\n",
              "      attempts++;\n",
              "      if (attempts > 100) {\n",
              "        console.log(\"Bokeh: ERROR: Unable to run BokehJS code because BokehJS library is missing\");\n",
              "        clearInterval(timer);\n",
              "      }\n",
              "    }, 10, root)\n",
              "  }\n",
              "})(window);"
            ],
            "application/vnd.bokehjs_exec.v0+json": ""
          },
          "metadata": {
            "tags": [],
            "application/vnd.bokehjs_exec.v0+json": {
              "id": "2224"
            }
          }
        }
      ]
    },
    {
      "metadata": {
        "id": "bFT6pB62bbIH",
        "colab_type": "code",
        "colab": {}
      },
      "cell_type": "code",
      "source": [
        "\n",
        "from sklearn.cluster import KMeans\n",
        "\n",
        "Kmean = KMeans(n_clusters=2)\n",
        "# Kmean.fit(x)"
      ],
      "execution_count": 0,
      "outputs": []
    },
    {
      "metadata": {
        "id": "Xv14o2vkbmXN",
        "colab_type": "code",
        "colab": {}
      },
      "cell_type": "code",
      "source": [
        "KmeanComponent = Kmean.fit_transform(x)\n",
        "KmeanDf = pd.DataFrame(data=KmeanComponent, columns = ['Kmean component 1', 'Kmean component 2'])"
      ],
      "execution_count": 0,
      "outputs": []
    },
    {
      "metadata": {
        "id": "SNS-osogczf6",
        "colab_type": "code",
        "outputId": "42eaa566-185e-4a82-a390-2dbd7bf05e34",
        "colab": {
          "base_uri": "https://localhost:8080/",
          "height": 90
        }
      },
      "cell_type": "code",
      "source": [
        "k1 = KmeanDf['Kmean component 1']\n",
        "k2 = KmeanDf['Kmean component 2']\n",
        "\n"
      ],
      "execution_count": 0,
      "outputs": [
        {
          "output_type": "execute_result",
          "data": {
            "text/plain": [
              "array([[0.90599476, 1.41947644, 1.82939791, 0.58280105, 1.18      ,\n",
              "        2.18356021, 3.1871466 , 2.80489529, 1.52609948, 2.60157068],\n",
              "       [0.88501672, 1.30989967, 0.49198997, 0.50036789, 0.78625418,\n",
              "        1.62528428, 3.17697324, 2.8543311 , 1.59712375, 2.92548495]])"
            ]
          },
          "metadata": {
            "tags": []
          },
          "execution_count": 73
        }
      ]
    },
    {
      "metadata": {
        "id": "fAD9NH9Oc9CE",
        "colab_type": "code",
        "outputId": "40e1b3ea-9b74-4ea9-a946-0bdf6269da0b",
        "colab": {
          "base_uri": "https://localhost:8080/",
          "height": 647
        }
      },
      "cell_type": "code",
      "source": [
        "show_circle_kmean(k1, k2, _circle={'centers': Kmean.cluster_centers_})"
      ],
      "execution_count": 0,
      "outputs": [
        {
          "output_type": "display_data",
          "data": {
            "text/html": [
              "\n",
              "    <div class=\"bk-root\">\n",
              "        <a href=\"https://bokeh.pydata.org\" target=\"_blank\" class=\"bk-logo bk-logo-small bk-logo-notebook\"></a>\n",
              "        <span id=\"4222\">Loading BokehJS ...</span>\n",
              "    </div>"
            ]
          },
          "metadata": {
            "tags": []
          }
        },
        {
          "output_type": "display_data",
          "data": {
            "application/javascript": [
              "\n",
              "(function(root) {\n",
              "  function now() {\n",
              "    return new Date();\n",
              "  }\n",
              "\n",
              "  var force = true;\n",
              "\n",
              "  if (typeof (root._bokeh_onload_callbacks) === \"undefined\" || force === true) {\n",
              "    root._bokeh_onload_callbacks = [];\n",
              "    root._bokeh_is_loading = undefined;\n",
              "  }\n",
              "\n",
              "  var JS_MIME_TYPE = 'application/javascript';\n",
              "  var HTML_MIME_TYPE = 'text/html';\n",
              "  var EXEC_MIME_TYPE = 'application/vnd.bokehjs_exec.v0+json';\n",
              "  var CLASS_NAME = 'output_bokeh rendered_html';\n",
              "\n",
              "  /**\n",
              "   * Render data to the DOM node\n",
              "   */\n",
              "  function render(props, node) {\n",
              "    var script = document.createElement(\"script\");\n",
              "    node.appendChild(script);\n",
              "  }\n",
              "\n",
              "  /**\n",
              "   * Handle when an output is cleared or removed\n",
              "   */\n",
              "  function handleClearOutput(event, handle) {\n",
              "    var cell = handle.cell;\n",
              "\n",
              "    var id = cell.output_area._bokeh_element_id;\n",
              "    var server_id = cell.output_area._bokeh_server_id;\n",
              "    // Clean up Bokeh references\n",
              "    if (id != null && id in Bokeh.index) {\n",
              "      Bokeh.index[id].model.document.clear();\n",
              "      delete Bokeh.index[id];\n",
              "    }\n",
              "\n",
              "    if (server_id !== undefined) {\n",
              "      // Clean up Bokeh references\n",
              "      var cmd = \"from bokeh.io.state import curstate; print(curstate().uuid_to_server['\" + server_id + \"'].get_sessions()[0].document.roots[0]._id)\";\n",
              "      cell.notebook.kernel.execute(cmd, {\n",
              "        iopub: {\n",
              "          output: function(msg) {\n",
              "            var id = msg.content.text.trim();\n",
              "            if (id in Bokeh.index) {\n",
              "              Bokeh.index[id].model.document.clear();\n",
              "              delete Bokeh.index[id];\n",
              "            }\n",
              "          }\n",
              "        }\n",
              "      });\n",
              "      // Destroy server and session\n",
              "      var cmd = \"import bokeh.io.notebook as ion; ion.destroy_server('\" + server_id + \"')\";\n",
              "      cell.notebook.kernel.execute(cmd);\n",
              "    }\n",
              "  }\n",
              "\n",
              "  /**\n",
              "   * Handle when a new output is added\n",
              "   */\n",
              "  function handleAddOutput(event, handle) {\n",
              "    var output_area = handle.output_area;\n",
              "    var output = handle.output;\n",
              "\n",
              "    // limit handleAddOutput to display_data with EXEC_MIME_TYPE content only\n",
              "    if ((output.output_type != \"display_data\") || (!output.data.hasOwnProperty(EXEC_MIME_TYPE))) {\n",
              "      return\n",
              "    }\n",
              "\n",
              "    var toinsert = output_area.element.find(\".\" + CLASS_NAME.split(' ')[0]);\n",
              "\n",
              "    if (output.metadata[EXEC_MIME_TYPE][\"id\"] !== undefined) {\n",
              "      toinsert[toinsert.length - 1].firstChild.textContent = output.data[JS_MIME_TYPE];\n",
              "      // store reference to embed id on output_area\n",
              "      output_area._bokeh_element_id = output.metadata[EXEC_MIME_TYPE][\"id\"];\n",
              "    }\n",
              "    if (output.metadata[EXEC_MIME_TYPE][\"server_id\"] !== undefined) {\n",
              "      var bk_div = document.createElement(\"div\");\n",
              "      bk_div.innerHTML = output.data[HTML_MIME_TYPE];\n",
              "      var script_attrs = bk_div.children[0].attributes;\n",
              "      for (var i = 0; i < script_attrs.length; i++) {\n",
              "        toinsert[toinsert.length - 1].firstChild.setAttribute(script_attrs[i].name, script_attrs[i].value);\n",
              "      }\n",
              "      // store reference to server id on output_area\n",
              "      output_area._bokeh_server_id = output.metadata[EXEC_MIME_TYPE][\"server_id\"];\n",
              "    }\n",
              "  }\n",
              "\n",
              "  function register_renderer(events, OutputArea) {\n",
              "\n",
              "    function append_mime(data, metadata, element) {\n",
              "      // create a DOM node to render to\n",
              "      var toinsert = this.create_output_subarea(\n",
              "        metadata,\n",
              "        CLASS_NAME,\n",
              "        EXEC_MIME_TYPE\n",
              "      );\n",
              "      this.keyboard_manager.register_events(toinsert);\n",
              "      // Render to node\n",
              "      var props = {data: data, metadata: metadata[EXEC_MIME_TYPE]};\n",
              "      render(props, toinsert[toinsert.length - 1]);\n",
              "      element.append(toinsert);\n",
              "      return toinsert\n",
              "    }\n",
              "\n",
              "    /* Handle when an output is cleared or removed */\n",
              "    events.on('clear_output.CodeCell', handleClearOutput);\n",
              "    events.on('delete.Cell', handleClearOutput);\n",
              "\n",
              "    /* Handle when a new output is added */\n",
              "    events.on('output_added.OutputArea', handleAddOutput);\n",
              "\n",
              "    /**\n",
              "     * Register the mime type and append_mime function with output_area\n",
              "     */\n",
              "    OutputArea.prototype.register_mime_type(EXEC_MIME_TYPE, append_mime, {\n",
              "      /* Is output safe? */\n",
              "      safe: true,\n",
              "      /* Index of renderer in `output_area.display_order` */\n",
              "      index: 0\n",
              "    });\n",
              "  }\n",
              "\n",
              "  // register the mime type if in Jupyter Notebook environment and previously unregistered\n",
              "  if (root.Jupyter !== undefined) {\n",
              "    var events = require('base/js/events');\n",
              "    var OutputArea = require('notebook/js/outputarea').OutputArea;\n",
              "\n",
              "    if (OutputArea.prototype.mime_types().indexOf(EXEC_MIME_TYPE) == -1) {\n",
              "      register_renderer(events, OutputArea);\n",
              "    }\n",
              "  }\n",
              "\n",
              "  \n",
              "  if (typeof (root._bokeh_timeout) === \"undefined\" || force === true) {\n",
              "    root._bokeh_timeout = Date.now() + 5000;\n",
              "    root._bokeh_failed_load = false;\n",
              "  }\n",
              "\n",
              "  var NB_LOAD_WARNING = {'data': {'text/html':\n",
              "     \"<div style='background-color: #fdd'>\\n\"+\n",
              "     \"<p>\\n\"+\n",
              "     \"BokehJS does not appear to have successfully loaded. If loading BokehJS from CDN, this \\n\"+\n",
              "     \"may be due to a slow or bad network connection. Possible fixes:\\n\"+\n",
              "     \"</p>\\n\"+\n",
              "     \"<ul>\\n\"+\n",
              "     \"<li>re-rerun `output_notebook()` to attempt to load from CDN again, or</li>\\n\"+\n",
              "     \"<li>use INLINE resources instead, as so:</li>\\n\"+\n",
              "     \"</ul>\\n\"+\n",
              "     \"<code>\\n\"+\n",
              "     \"from bokeh.resources import INLINE\\n\"+\n",
              "     \"output_notebook(resources=INLINE)\\n\"+\n",
              "     \"</code>\\n\"+\n",
              "     \"</div>\"}};\n",
              "\n",
              "  function display_loaded() {\n",
              "    var el = document.getElementById(\"4222\");\n",
              "    if (el != null) {\n",
              "      el.textContent = \"BokehJS is loading...\";\n",
              "    }\n",
              "    if (root.Bokeh !== undefined) {\n",
              "      if (el != null) {\n",
              "        el.textContent = \"BokehJS \" + root.Bokeh.version + \" successfully loaded.\";\n",
              "      }\n",
              "    } else if (Date.now() < root._bokeh_timeout) {\n",
              "      setTimeout(display_loaded, 100)\n",
              "    }\n",
              "  }\n",
              "\n",
              "\n",
              "  function run_callbacks() {\n",
              "    try {\n",
              "      root._bokeh_onload_callbacks.forEach(function(callback) { callback() });\n",
              "    }\n",
              "    finally {\n",
              "      delete root._bokeh_onload_callbacks\n",
              "    }\n",
              "    console.info(\"Bokeh: all callbacks have finished\");\n",
              "  }\n",
              "\n",
              "  function load_libs(js_urls, callback) {\n",
              "    root._bokeh_onload_callbacks.push(callback);\n",
              "    if (root._bokeh_is_loading > 0) {\n",
              "      console.log(\"Bokeh: BokehJS is being loaded, scheduling callback at\", now());\n",
              "      return null;\n",
              "    }\n",
              "    if (js_urls == null || js_urls.length === 0) {\n",
              "      run_callbacks();\n",
              "      return null;\n",
              "    }\n",
              "    console.log(\"Bokeh: BokehJS not loaded, scheduling load and callback at\", now());\n",
              "    root._bokeh_is_loading = js_urls.length;\n",
              "    for (var i = 0; i < js_urls.length; i++) {\n",
              "      var url = js_urls[i];\n",
              "      var s = document.createElement('script');\n",
              "      s.src = url;\n",
              "      s.async = false;\n",
              "      s.onreadystatechange = s.onload = function() {\n",
              "        root._bokeh_is_loading--;\n",
              "        if (root._bokeh_is_loading === 0) {\n",
              "          console.log(\"Bokeh: all BokehJS libraries loaded\");\n",
              "          run_callbacks()\n",
              "        }\n",
              "      };\n",
              "      s.onerror = function() {\n",
              "        console.warn(\"failed to load library \" + url);\n",
              "      };\n",
              "      console.log(\"Bokeh: injecting script tag for BokehJS library: \", url);\n",
              "      document.getElementsByTagName(\"head\")[0].appendChild(s);\n",
              "    }\n",
              "  };var element = document.getElementById(\"4222\");\n",
              "  if (element == null) {\n",
              "    console.log(\"Bokeh: ERROR: autoload.js configured with elementid '4222' but no matching script tag was found. \")\n",
              "    return false;\n",
              "  }\n",
              "\n",
              "  var js_urls = [\"https://cdn.pydata.org/bokeh/release/bokeh-1.0.4.min.js\", \"https://cdn.pydata.org/bokeh/release/bokeh-widgets-1.0.4.min.js\", \"https://cdn.pydata.org/bokeh/release/bokeh-tables-1.0.4.min.js\", \"https://cdn.pydata.org/bokeh/release/bokeh-gl-1.0.4.min.js\"];\n",
              "\n",
              "  var inline_js = [\n",
              "    function(Bokeh) {\n",
              "      Bokeh.set_log_level(\"info\");\n",
              "    },\n",
              "    \n",
              "    function(Bokeh) {\n",
              "      \n",
              "    },\n",
              "    function(Bokeh) {\n",
              "      console.log(\"Bokeh: injecting CSS: https://cdn.pydata.org/bokeh/release/bokeh-1.0.4.min.css\");\n",
              "      Bokeh.embed.inject_css(\"https://cdn.pydata.org/bokeh/release/bokeh-1.0.4.min.css\");\n",
              "      console.log(\"Bokeh: injecting CSS: https://cdn.pydata.org/bokeh/release/bokeh-widgets-1.0.4.min.css\");\n",
              "      Bokeh.embed.inject_css(\"https://cdn.pydata.org/bokeh/release/bokeh-widgets-1.0.4.min.css\");\n",
              "      console.log(\"Bokeh: injecting CSS: https://cdn.pydata.org/bokeh/release/bokeh-tables-1.0.4.min.css\");\n",
              "      Bokeh.embed.inject_css(\"https://cdn.pydata.org/bokeh/release/bokeh-tables-1.0.4.min.css\");\n",
              "    }\n",
              "  ];\n",
              "\n",
              "  function run_inline_js() {\n",
              "    \n",
              "    if ((root.Bokeh !== undefined) || (force === true)) {\n",
              "      for (var i = 0; i < inline_js.length; i++) {\n",
              "        inline_js[i].call(root, root.Bokeh);\n",
              "      }if (force === true) {\n",
              "        display_loaded();\n",
              "      }} else if (Date.now() < root._bokeh_timeout) {\n",
              "      setTimeout(run_inline_js, 100);\n",
              "    } else if (!root._bokeh_failed_load) {\n",
              "      console.log(\"Bokeh: BokehJS failed to load within specified timeout.\");\n",
              "      root._bokeh_failed_load = true;\n",
              "    } else if (force !== true) {\n",
              "      var cell = $(document.getElementById(\"4222\")).parents('.cell').data().cell;\n",
              "      cell.output_area.append_execute_result(NB_LOAD_WARNING)\n",
              "    }\n",
              "\n",
              "  }\n",
              "\n",
              "  if (root._bokeh_is_loading === 0) {\n",
              "    console.log(\"Bokeh: BokehJS loaded, going straight to plotting\");\n",
              "    run_inline_js();\n",
              "  } else {\n",
              "    load_libs(js_urls, function() {\n",
              "      console.log(\"Bokeh: BokehJS plotting callback run at\", now());\n",
              "      run_inline_js();\n",
              "    });\n",
              "  }\n",
              "}(window));"
            ],
            "application/vnd.bokehjs_load.v0+json": "\n(function(root) {\n  function now() {\n    return new Date();\n  }\n\n  var force = true;\n\n  if (typeof (root._bokeh_onload_callbacks) === \"undefined\" || force === true) {\n    root._bokeh_onload_callbacks = [];\n    root._bokeh_is_loading = undefined;\n  }\n\n  \n\n  \n  if (typeof (root._bokeh_timeout) === \"undefined\" || force === true) {\n    root._bokeh_timeout = Date.now() + 5000;\n    root._bokeh_failed_load = false;\n  }\n\n  var NB_LOAD_WARNING = {'data': {'text/html':\n     \"<div style='background-color: #fdd'>\\n\"+\n     \"<p>\\n\"+\n     \"BokehJS does not appear to have successfully loaded. If loading BokehJS from CDN, this \\n\"+\n     \"may be due to a slow or bad network connection. Possible fixes:\\n\"+\n     \"</p>\\n\"+\n     \"<ul>\\n\"+\n     \"<li>re-rerun `output_notebook()` to attempt to load from CDN again, or</li>\\n\"+\n     \"<li>use INLINE resources instead, as so:</li>\\n\"+\n     \"</ul>\\n\"+\n     \"<code>\\n\"+\n     \"from bokeh.resources import INLINE\\n\"+\n     \"output_notebook(resources=INLINE)\\n\"+\n     \"</code>\\n\"+\n     \"</div>\"}};\n\n  function display_loaded() {\n    var el = document.getElementById(\"4222\");\n    if (el != null) {\n      el.textContent = \"BokehJS is loading...\";\n    }\n    if (root.Bokeh !== undefined) {\n      if (el != null) {\n        el.textContent = \"BokehJS \" + root.Bokeh.version + \" successfully loaded.\";\n      }\n    } else if (Date.now() < root._bokeh_timeout) {\n      setTimeout(display_loaded, 100)\n    }\n  }\n\n\n  function run_callbacks() {\n    try {\n      root._bokeh_onload_callbacks.forEach(function(callback) { callback() });\n    }\n    finally {\n      delete root._bokeh_onload_callbacks\n    }\n    console.info(\"Bokeh: all callbacks have finished\");\n  }\n\n  function load_libs(js_urls, callback) {\n    root._bokeh_onload_callbacks.push(callback);\n    if (root._bokeh_is_loading > 0) {\n      console.log(\"Bokeh: BokehJS is being loaded, scheduling callback at\", now());\n      return null;\n    }\n    if (js_urls == null || js_urls.length === 0) {\n      run_callbacks();\n      return null;\n    }\n    console.log(\"Bokeh: BokehJS not loaded, scheduling load and callback at\", now());\n    root._bokeh_is_loading = js_urls.length;\n    for (var i = 0; i < js_urls.length; i++) {\n      var url = js_urls[i];\n      var s = document.createElement('script');\n      s.src = url;\n      s.async = false;\n      s.onreadystatechange = s.onload = function() {\n        root._bokeh_is_loading--;\n        if (root._bokeh_is_loading === 0) {\n          console.log(\"Bokeh: all BokehJS libraries loaded\");\n          run_callbacks()\n        }\n      };\n      s.onerror = function() {\n        console.warn(\"failed to load library \" + url);\n      };\n      console.log(\"Bokeh: injecting script tag for BokehJS library: \", url);\n      document.getElementsByTagName(\"head\")[0].appendChild(s);\n    }\n  };var element = document.getElementById(\"4222\");\n  if (element == null) {\n    console.log(\"Bokeh: ERROR: autoload.js configured with elementid '4222' but no matching script tag was found. \")\n    return false;\n  }\n\n  var js_urls = [\"https://cdn.pydata.org/bokeh/release/bokeh-1.0.4.min.js\", \"https://cdn.pydata.org/bokeh/release/bokeh-widgets-1.0.4.min.js\", \"https://cdn.pydata.org/bokeh/release/bokeh-tables-1.0.4.min.js\", \"https://cdn.pydata.org/bokeh/release/bokeh-gl-1.0.4.min.js\"];\n\n  var inline_js = [\n    function(Bokeh) {\n      Bokeh.set_log_level(\"info\");\n    },\n    \n    function(Bokeh) {\n      \n    },\n    function(Bokeh) {\n      console.log(\"Bokeh: injecting CSS: https://cdn.pydata.org/bokeh/release/bokeh-1.0.4.min.css\");\n      Bokeh.embed.inject_css(\"https://cdn.pydata.org/bokeh/release/bokeh-1.0.4.min.css\");\n      console.log(\"Bokeh: injecting CSS: https://cdn.pydata.org/bokeh/release/bokeh-widgets-1.0.4.min.css\");\n      Bokeh.embed.inject_css(\"https://cdn.pydata.org/bokeh/release/bokeh-widgets-1.0.4.min.css\");\n      console.log(\"Bokeh: injecting CSS: https://cdn.pydata.org/bokeh/release/bokeh-tables-1.0.4.min.css\");\n      Bokeh.embed.inject_css(\"https://cdn.pydata.org/bokeh/release/bokeh-tables-1.0.4.min.css\");\n    }\n  ];\n\n  function run_inline_js() {\n    \n    if ((root.Bokeh !== undefined) || (force === true)) {\n      for (var i = 0; i < inline_js.length; i++) {\n        inline_js[i].call(root, root.Bokeh);\n      }if (force === true) {\n        display_loaded();\n      }} else if (Date.now() < root._bokeh_timeout) {\n      setTimeout(run_inline_js, 100);\n    } else if (!root._bokeh_failed_load) {\n      console.log(\"Bokeh: BokehJS failed to load within specified timeout.\");\n      root._bokeh_failed_load = true;\n    } else if (force !== true) {\n      var cell = $(document.getElementById(\"4222\")).parents('.cell').data().cell;\n      cell.output_area.append_execute_result(NB_LOAD_WARNING)\n    }\n\n  }\n\n  if (root._bokeh_is_loading === 0) {\n    console.log(\"Bokeh: BokehJS loaded, going straight to plotting\");\n    run_inline_js();\n  } else {\n    load_libs(js_urls, function() {\n      console.log(\"Bokeh: BokehJS plotting callback run at\", now());\n      run_inline_js();\n    });\n  }\n}(window));"
          },
          "metadata": {
            "tags": []
          }
        },
        {
          "output_type": "display_data",
          "data": {
            "text/html": [
              "\n",
              "\n",
              "\n",
              "\n",
              "\n",
              "\n",
              "  <div class=\"bk-root\" id=\"d17aeac3-4ab2-42f6-b6d7-29faf2e797ed\" data-root-id=\"4178\"></div>\n"
            ]
          },
          "metadata": {
            "tags": []
          }
        },
        {
          "output_type": "display_data",
          "data": {
            "application/javascript": [
              "(function(root) {\n",
              "  function embed_document(root) {\n",
              "    \n",
              "  var docs_json = {\"e2000ea0-5836-458b-944c-cc8e3e8088af\":{\"roots\":{\"references\":[{\"attributes\":{\"below\":[{\"id\":\"4187\",\"type\":\"LinearAxis\"}],\"left\":[{\"id\":\"4192\",\"type\":\"LinearAxis\"}],\"renderers\":[{\"id\":\"4187\",\"type\":\"LinearAxis\"},{\"id\":\"4191\",\"type\":\"Grid\"},{\"id\":\"4192\",\"type\":\"LinearAxis\"},{\"id\":\"4196\",\"type\":\"Grid\"},{\"id\":\"4205\",\"type\":\"BoxAnnotation\"},{\"id\":\"4215\",\"type\":\"GlyphRenderer\"},{\"id\":\"4220\",\"type\":\"GlyphRenderer\"}],\"title\":{\"id\":\"4378\",\"type\":\"Title\"},\"toolbar\":{\"id\":\"4203\",\"type\":\"Toolbar\"},\"x_range\":{\"id\":\"4179\",\"type\":\"DataRange1d\"},\"x_scale\":{\"id\":\"4183\",\"type\":\"LinearScale\"},\"y_range\":{\"id\":\"4181\",\"type\":\"DataRange1d\"},\"y_scale\":{\"id\":\"4185\",\"type\":\"LinearScale\"}},\"id\":\"4178\",\"subtype\":\"Figure\",\"type\":\"Plot\"},{\"attributes\":{},\"id\":\"4201\",\"type\":\"ResetTool\"},{\"attributes\":{},\"id\":\"4185\",\"type\":\"LinearScale\"},{\"attributes\":{\"data_source\":{\"id\":\"4212\",\"type\":\"ColumnDataSource\"},\"glyph\":{\"id\":\"4213\",\"type\":\"Circle\"},\"hover_glyph\":null,\"muted_glyph\":null,\"nonselection_glyph\":{\"id\":\"4214\",\"type\":\"Circle\"},\"selection_glyph\":null,\"view\":{\"id\":\"4216\",\"type\":\"CDSView\"}},\"id\":\"4215\",\"type\":\"GlyphRenderer\"},{\"attributes\":{},\"id\":\"4383\",\"type\":\"BasicTickFormatter\"},{\"attributes\":{\"formatter\":{\"id\":\"4381\",\"type\":\"BasicTickFormatter\"},\"plot\":{\"id\":\"4178\",\"subtype\":\"Figure\",\"type\":\"Plot\"},\"ticker\":{\"id\":\"4188\",\"type\":\"BasicTicker\"}},\"id\":\"4187\",\"type\":\"LinearAxis\"},{\"attributes\":{},\"id\":\"4188\",\"type\":\"BasicTicker\"},{\"attributes\":{\"overlay\":{\"id\":\"4205\",\"type\":\"BoxAnnotation\"}},\"id\":\"4199\",\"type\":\"BoxZoomTool\"},{\"attributes\":{\"callback\":null},\"id\":\"4179\",\"type\":\"DataRange1d\"},{\"attributes\":{\"plot\":{\"id\":\"4178\",\"subtype\":\"Figure\",\"type\":\"Plot\"},\"ticker\":{\"id\":\"4188\",\"type\":\"BasicTicker\"}},\"id\":\"4191\",\"type\":\"Grid\"},{\"attributes\":{},\"id\":\"4183\",\"type\":\"LinearScale\"},{\"attributes\":{\"fill_color\":{\"value\":\"#1f77b4\"},\"line_color\":{\"value\":\"#1f77b4\"},\"x\":{\"field\":\"x\"},\"y\":{\"field\":\"y\"}},\"id\":\"4213\",\"type\":\"Circle\"},{\"attributes\":{\"fill_alpha\":{\"value\":0.1},\"fill_color\":{\"value\":\"#1f77b4\"},\"line_alpha\":{\"value\":0.1},\"line_color\":{\"value\":\"#1f77b4\"},\"x\":{\"field\":\"x\"},\"y\":{\"field\":\"y\"}},\"id\":\"4214\",\"type\":\"Circle\"},{\"attributes\":{\"callback\":null,\"data\":{},\"selected\":{\"id\":\"4386\",\"type\":\"Selection\"},\"selection_policy\":{\"id\":\"4387\",\"type\":\"UnionRenderers\"}},\"id\":\"4217\",\"type\":\"ColumnDataSource\"},{\"attributes\":{\"source\":{\"id\":\"4212\",\"type\":\"ColumnDataSource\"}},\"id\":\"4216\",\"type\":\"CDSView\"},{\"attributes\":{},\"id\":\"4200\",\"type\":\"SaveTool\"},{\"attributes\":{\"fill_color\":{\"value\":\"#FB8072\"},\"line_color\":{\"value\":\"#FB8072\"},\"size\":{\"units\":\"screen\",\"value\":30},\"x\":{\"value\":1.8220942408376963},\"y\":{\"value\":1.6152725752508363}},\"id\":\"4218\",\"type\":\"Circle\"},{\"attributes\":{\"formatter\":{\"id\":\"4383\",\"type\":\"BasicTickFormatter\"},\"plot\":{\"id\":\"4178\",\"subtype\":\"Figure\",\"type\":\"Plot\"},\"ticker\":{\"id\":\"4193\",\"type\":\"BasicTicker\"}},\"id\":\"4192\",\"type\":\"LinearAxis\"},{\"attributes\":{},\"id\":\"4197\",\"type\":\"PanTool\"},{\"attributes\":{\"active_drag\":\"auto\",\"active_inspect\":\"auto\",\"active_multi\":null,\"active_scroll\":\"auto\",\"active_tap\":\"auto\",\"tools\":[{\"id\":\"4197\",\"type\":\"PanTool\"},{\"id\":\"4198\",\"type\":\"WheelZoomTool\"},{\"id\":\"4199\",\"type\":\"BoxZoomTool\"},{\"id\":\"4200\",\"type\":\"SaveTool\"},{\"id\":\"4201\",\"type\":\"ResetTool\"},{\"id\":\"4202\",\"type\":\"HelpTool\"}]},\"id\":\"4203\",\"type\":\"Toolbar\"},{\"attributes\":{},\"id\":\"4385\",\"type\":\"UnionRenderers\"},{\"attributes\":{},\"id\":\"4202\",\"type\":\"HelpTool\"},{\"attributes\":{},\"id\":\"4198\",\"type\":\"WheelZoomTool\"},{\"attributes\":{},\"id\":\"4384\",\"type\":\"Selection\"},{\"attributes\":{},\"id\":\"4381\",\"type\":\"BasicTickFormatter\"},{\"attributes\":{\"data_source\":{\"id\":\"4217\",\"type\":\"ColumnDataSource\"},\"glyph\":{\"id\":\"4218\",\"type\":\"Circle\"},\"hover_glyph\":null,\"muted_glyph\":null,\"nonselection_glyph\":{\"id\":\"4219\",\"type\":\"Circle\"},\"selection_glyph\":null,\"view\":{\"id\":\"4221\",\"type\":\"CDSView\"}},\"id\":\"4220\",\"type\":\"GlyphRenderer\"},{\"attributes\":{\"dimension\":1,\"plot\":{\"id\":\"4178\",\"subtype\":\"Figure\",\"type\":\"Plot\"},\"ticker\":{\"id\":\"4193\",\"type\":\"BasicTicker\"}},\"id\":\"4196\",\"type\":\"Grid\"},{\"attributes\":{\"source\":{\"id\":\"4217\",\"type\":\"ColumnDataSource\"}},\"id\":\"4221\",\"type\":\"CDSView\"},{\"attributes\":{\"callback\":null,\"data\":{\"x\":{\"__ndarray__\":\"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\",\"dtype\":\"float64\",\"shape\":[980]},\"y\":{\"__ndarray__\":\"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\",\"dtype\":\"float64\",\"shape\":[980]}},\"selected\":{\"id\":\"4384\",\"type\":\"Selection\"},\"selection_policy\":{\"id\":\"4385\",\"type\":\"UnionRenderers\"}},\"id\":\"4212\",\"type\":\"ColumnDataSource\"},{\"attributes\":{},\"id\":\"4193\",\"type\":\"BasicTicker\"},{\"attributes\":{\"callback\":null},\"id\":\"4181\",\"type\":\"DataRange1d\"},{\"attributes\":{\"fill_alpha\":{\"value\":0.1},\"fill_color\":{\"value\":\"#1f77b4\"},\"line_alpha\":{\"value\":0.1},\"line_color\":{\"value\":\"#1f77b4\"},\"size\":{\"units\":\"screen\",\"value\":30},\"x\":{\"value\":1.8220942408376963},\"y\":{\"value\":1.6152725752508363}},\"id\":\"4219\",\"type\":\"Circle\"},{\"attributes\":{\"bottom_units\":\"screen\",\"fill_alpha\":{\"value\":0.5},\"fill_color\":{\"value\":\"lightgrey\"},\"left_units\":\"screen\",\"level\":\"overlay\",\"line_alpha\":{\"value\":1.0},\"line_color\":{\"value\":\"black\"},\"line_dash\":[4,4],\"line_width\":{\"value\":2},\"plot\":null,\"render_mode\":\"css\",\"right_units\":\"screen\",\"top_units\":\"screen\"},\"id\":\"4205\",\"type\":\"BoxAnnotation\"},{\"attributes\":{\"plot\":null,\"text\":\"\"},\"id\":\"4378\",\"type\":\"Title\"},{\"attributes\":{},\"id\":\"4386\",\"type\":\"Selection\"},{\"attributes\":{},\"id\":\"4387\",\"type\":\"UnionRenderers\"}],\"root_ids\":[\"4178\"]},\"title\":\"Bokeh Application\",\"version\":\"1.0.4\"}};\n",
              "  var render_items = [{\"docid\":\"e2000ea0-5836-458b-944c-cc8e3e8088af\",\"roots\":{\"4178\":\"d17aeac3-4ab2-42f6-b6d7-29faf2e797ed\"}}];\n",
              "  root.Bokeh.embed.embed_items_notebook(docs_json, render_items);\n",
              "\n",
              "  }\n",
              "  if (root.Bokeh !== undefined) {\n",
              "    embed_document(root);\n",
              "  } else {\n",
              "    var attempts = 0;\n",
              "    var timer = setInterval(function(root) {\n",
              "      if (root.Bokeh !== undefined) {\n",
              "        embed_document(root);\n",
              "        clearInterval(timer);\n",
              "      }\n",
              "      attempts++;\n",
              "      if (attempts > 100) {\n",
              "        console.log(\"Bokeh: ERROR: Unable to run BokehJS code because BokehJS library is missing\");\n",
              "        clearInterval(timer);\n",
              "      }\n",
              "    }, 10, root)\n",
              "  }\n",
              "})(window);"
            ],
            "application/vnd.bokehjs_exec.v0+json": ""
          },
          "metadata": {
            "tags": [],
            "application/vnd.bokehjs_exec.v0+json": {
              "id": "4178"
            }
          }
        }
      ]
    },
    {
      "metadata": {
        "id": "Xo0Wvvl_Nvl9",
        "colab_type": "text"
      },
      "cell_type": "markdown",
      "source": [
        "# References:\n",
        "\n",
        "\n",
        "\n",
        "*   https://towardsdatascience.com/pca-using-python-scikit-learn-e653f8989e60\n",
        "\n",
        "\n"
      ]
    }
  ]
}